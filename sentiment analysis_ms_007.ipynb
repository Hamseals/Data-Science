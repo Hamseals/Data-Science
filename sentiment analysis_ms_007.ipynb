{
 "cells": [
  {
   "cell_type": "markdown",
   "metadata": {},
   "source": [
    "# Sentimental Analysis"
   ]
  },
  {
   "cell_type": "code",
   "execution_count": null,
   "metadata": {},
   "outputs": [],
   "source": [
    "import pandas as pd\n",
    "from scipy.stats import spearmanr\n",
    "import matplotlib.pyplot as plt\n",
    "import re\n",
    "import numpy as np\n",
    "import re\n",
    "import nltk\n",
    "nltk.download('punkt')  \n",
    "from nltk.tokenize import sent_tokenize\n",
    "from scipy.stats import ttest_ind\n",
    "from sklearn.ensemble import RandomForestClassifier\n",
    "from sklearn.model_selection import train_test_split\n",
    "from sklearn.metrics import classification_report, confusion_matrix\n",
    "from sklearn.preprocessing import StandardScaler\n",
    "from transformers import BertTokenizerFast, BertModel, BertPreTrainedModel\n",
    "from transformers import Trainer, TrainingArguments\n",
    "from transformers.modeling_outputs import SequenceClassifierOutput\n",
    "import torch\n",
    "import torch.nn as nn\n",
    "from torch.utils.data import Dataset\n",
    "import os\n",
    "import shap\n",
    "from sklearn.metrics import roc_auc_score\n",
    "from sklearn.metrics import classification_report, confusion_matrix, precision_recall_curve, auc\n",
    "from sklearn.metrics import precision_recall_curve, auc\n",
    "from sklearn.model_selection import train_test_split\n",
    "from lime.lime_tabular import LimeTabularExplainer\n",
    "from scipy.stats import spearmanr\n"
   ]
  },
  {
   "cell_type": "code",
   "execution_count": null,
   "metadata": {},
   "outputs": [],
   "source": [
    "pip install transformers torch tqdm\n",
    "pip install transformers datasets scikit-learn torch\n",
    "pip install -U accelerate\n",
    "pip install transformers[torch]\n",
    "!pip install shap\n",
    "!pip install lime"
   ]
  },
  {
   "cell_type": "code",
   "execution_count": null,
   "metadata": {},
   "outputs": [
    {
     "name": "stdout",
     "output_type": "stream",
     "text": [
      "Index(['Job Title', 'Salary Estimate', 'Job Description', 'Rating',\n",
      "       'Company Name', 'Location', 'Headquarters', 'Size', 'Founded',\n",
      "       'Type of ownership', 'Industry', 'Sector', 'Revenue', 'Competitors',\n",
      "       'hourly', 'employer_provided', 'min_salary', 'max_salary', 'avg_salary',\n",
      "       'company_txt', 'job_state', 'same_state', 'age', 'python_yn', 'R_yn',\n",
      "       'spark', 'aws', 'excel'],\n",
      "      dtype='object')\n",
      "                   Job Title              Salary Estimate  \\\n",
      "0             Data Scientist   $53K-$91K (Glassdoor est.)   \n",
      "1  Healthcare Data Scientist  $63K-$112K (Glassdoor est.)   \n",
      "2             Data Scientist   $80K-$90K (Glassdoor est.)   \n",
      "3             Data Scientist   $56K-$97K (Glassdoor est.)   \n",
      "4             Data Scientist  $86K-$143K (Glassdoor est.)   \n",
      "\n",
      "                                     Job Description  Rating  \\\n",
      "0  Data Scientist\\nLocation: Albuquerque, NM\\nEdu...     3.8   \n",
      "1  What You Will Do:\\n\\nI. General Summary\\n\\nThe...     3.4   \n",
      "2  KnowBe4, Inc. is a high growth information sec...     4.8   \n",
      "3  *Organization and Job ID**\\nJob ID: 310709\\n\\n...     3.8   \n",
      "4  Data Scientist\\nAffinity Solutions / Marketing...     2.9   \n",
      "\n",
      "                                 Company Name         Location  \\\n",
      "0                      Tecolote Research\\n3.8  Albuquerque, NM   \n",
      "1  University of Maryland Medical System\\n3.4    Linthicum, MD   \n",
      "2                                KnowBe4\\n4.8   Clearwater, FL   \n",
      "3                                   PNNL\\n3.8     Richland, WA   \n",
      "4                     Affinity Solutions\\n2.9     New York, NY   \n",
      "\n",
      "     Headquarters                    Size  Founded   Type of ownership  ...  \\\n",
      "0      Goleta, CA   501 to 1000 employees     1973   Company - Private  ...   \n",
      "1   Baltimore, MD        10000+ employees     1984  Other Organization  ...   \n",
      "2  Clearwater, FL   501 to 1000 employees     2010   Company - Private  ...   \n",
      "3    Richland, WA  1001 to 5000 employees     1965          Government  ...   \n",
      "4    New York, NY     51 to 200 employees     1998   Company - Private  ...   \n",
      "\n",
      "  avg_salary                              company_txt job_state same_state  \\\n",
      "0       72.0                      Tecolote Research\\n        NM          0   \n",
      "1       87.5  University of Maryland Medical System\\n        MD          0   \n",
      "2       85.0                                KnowBe4\\n        FL          1   \n",
      "3       76.5                                   PNNL\\n        WA          1   \n",
      "4      114.5                     Affinity Solutions\\n        NY          1   \n",
      "\n",
      "   age  python_yn  R_yn  spark  aws excel  \n",
      "0   47          1     0      0    0     1  \n",
      "1   36          1     0      0    0     0  \n",
      "2   10          1     0      1    0     1  \n",
      "3   55          1     0      0    0     0  \n",
      "4   22          1     0      0    0     1  \n",
      "\n",
      "[5 rows x 28 columns]\n"
     ]
    }
   ],
   "source": [
    "\n",
    "file_path = r\"C:\\Users\\KS\\Downloads\\archive\\salary_data_cleaned_excel_ready.csv\"\n",
    "\n",
    "df = pd.read_csv(file_path, sep=';', encoding='utf-8')\n",
    "\n",
    "print(df.columns)\n",
    "print(df.head())"
   ]
  },
  {
   "cell_type": "code",
   "execution_count": 3,
   "metadata": {},
   "outputs": [
    {
     "name": "stdout",
     "output_type": "stream",
     "text": [
      "Job Title             object\n",
      "Salary Estimate       object\n",
      "Job Description       object\n",
      "Rating               float64\n",
      "Company Name          object\n",
      "Location              object\n",
      "Headquarters          object\n",
      "Size                  object\n",
      "Founded                int64\n",
      "Type of ownership     object\n",
      "Industry              object\n",
      "Sector                object\n",
      "Revenue               object\n",
      "Competitors           object\n",
      "hourly                 int64\n",
      "employer_provided      int64\n",
      "min_salary             int64\n",
      "max_salary             int64\n",
      "avg_salary           float64\n",
      "company_txt           object\n",
      "job_state             object\n",
      "same_state             int64\n",
      "age                    int64\n",
      "python_yn              int64\n",
      "R_yn                   int64\n",
      "spark                  int64\n",
      "aws                    int64\n",
      "excel                  int64\n",
      "dtype: object\n",
      "Liczba kolumn: 28\n",
      "['Job Title', 'Salary Estimate', 'Job Description', 'Rating', 'Company Name', 'Location', 'Headquarters', 'Size', 'Founded', 'Type of ownership', 'Industry', 'Sector', 'Revenue', 'Competitors', 'hourly', 'employer_provided', 'min_salary', 'max_salary', 'avg_salary', 'company_txt', 'job_state', 'same_state', 'age', 'python_yn', 'R_yn', 'spark', 'aws', 'excel']\n",
      "0    Data Scientist\\nLocation: Albuquerque, NM\\nEdu...\n",
      "1    What You Will Do:\\n\\nI. General Summary\\n\\nThe...\n",
      "2    KnowBe4, Inc. is a high growth information sec...\n",
      "Name: Job Description, dtype: object\n",
      "\n",
      "🔎 empty job ads: 0\n"
     ]
    }
   ],
   "source": [
    "print(df.dtypes)\n",
    "\n",
    "print(f\"Liczba kolumn: {len(df.columns)}\")\n",
    "print(df.columns.tolist())\n",
    "\n",
    "print(df['Job Description'].head(3))\n",
    "\n",
    "missing_desc = df['Job Description'].isna().sum()\n",
    "print(f\"\\n🔎 empty job ads: {missing_desc}\")"
   ]
  },
  {
   "cell_type": "markdown",
   "metadata": {},
   "source": [
    "## 1. Data preparation"
   ]
  },
  {
   "cell_type": "code",
   "execution_count": null,
   "metadata": {},
   "outputs": [
    {
     "name": "stderr",
     "output_type": "stream",
     "text": [
      "[nltk_data] Downloading package punkt to\n",
      "[nltk_data]     C:\\Users\\KS\\AppData\\Roaming\\nltk_data...\n",
      "[nltk_data]   Package punkt is already up-to-date!\n"
     ]
    },
    {
     "name": "stdout",
     "output_type": "stream",
     "text": [
      "                Salary Estimate  Salary_Avg\n",
      "0    $53K-$91K (Glassdoor est.)        72.0\n",
      "1   $63K-$112K (Glassdoor est.)        87.5\n",
      "2    $80K-$90K (Glassdoor est.)        85.0\n",
      "3    $56K-$97K (Glassdoor est.)        76.5\n",
      "4   $86K-$143K (Glassdoor est.)       114.5\n",
      "5   $71K-$119K (Glassdoor est.)        95.0\n",
      "6    $54K-$93K (Glassdoor est.)        73.5\n",
      "7   $86K-$142K (Glassdoor est.)       114.0\n",
      "8    $38K-$84K (Glassdoor est.)        61.0\n",
      "9  $120K-$160K (Glassdoor est.)       140.0\n",
      "   Salary_Avg  Rating                                    Job Description\n",
      "0        72.0     3.8  Data Scientist\\nLocation: Albuquerque, NM\\nEdu...\n",
      "1        87.5     3.4  What You Will Do:\\n\\nI. General Summary\\n\\nThe...\n",
      "2        85.0     4.8  KnowBe4, Inc. is a high growth information sec...\n",
      "3        76.5     3.8  *Organization and Job ID**\\nJob ID: 310709\\n\\n...\n",
      "4       114.5     2.9  Data Scientist\\nAffinity Solutions / Marketing...\n",
      "                                     Job Description\n",
      "0  Data Scientist\\nLocation: Albuquerque, NM\\nEdu...\n",
      "1  What You Will Do:\\n\\nI. General Summary\\n\\nThe...\n",
      "2  KnowBe4, Inc. is a high growth information sec...\n",
      "3  *Organization and Job ID**\\nJob ID: 310709\\n\\n...\n",
      "4  Data Scientist\\nAffinity Solutions / Marketing...\n",
      "5  CyrusOne is seeking a talented Data Scientist ...\n",
      "6  Job Description\\n\\n**Please only local candida...\n",
      "7  Advanced Analytics – Lead Data Scientist\\nOver...\n",
      "8  SUMMARY\\n\\nThe Research Scientist I will be ta...\n",
      "9  isn’t your usual company. Our work is powered ...\n"
     ]
    },
    {
     "name": "stderr",
     "output_type": "stream",
     "text": [
      "\n",
      "A value is trying to be set on a copy of a slice from a DataFrame.\n",
      "Try using .loc[row_indexer,col_indexer] = value instead\n",
      "\n",
      "See the caveats in the documentation: https://pandas.pydata.org/pandas-docs/stable/user_guide/indexing.html#returning-a-view-versus-a-copy\n"
     ]
    },
    {
     "name": "stdout",
     "output_type": "stream",
     "text": [
      "                                     Job Description  \\\n",
      "0  Data Scientist\\nLocation: Albuquerque, NM\\nEdu...   \n",
      "1  What You Will Do:\\n\\nI. General Summary\\n\\nThe...   \n",
      "2  KnowBe4, Inc. is a high growth information sec...   \n",
      "\n",
      "                                 Cleaned_Description  \\\n",
      "0  Data Scientist Location Albuquerque, NM Educat...   \n",
      "1  What You Will Do I. General Summary The Health...   \n",
      "2  KnowBe4, Inc. is a high growth information sec...   \n",
      "\n",
      "                           Short_Cleaned_Description  \n",
      "0  Data Scientist Location Albuquerque, NM Educat...  \n",
      "1  What You Will Do I. General Summary The Health...  \n",
      "2  KnowBe4, Inc. is a high growth information sec...  \n"
     ]
    },
    {
     "name": "stderr",
     "output_type": "stream",
     "text": [
      "\n",
      "A value is trying to be set on a copy of a slice from a DataFrame.\n",
      "Try using .loc[row_indexer,col_indexer] = value instead\n",
      "\n",
      "See the caveats in the documentation: https://pandas.pydata.org/pandas-docs/stable/user_guide/indexing.html#returning-a-view-versus-a-copy\n"
     ]
    }
   ],
   "source": [
    "#Define a function to extract the average salary from a salary range string\n",
    "def extract_salary_mean(salary_str):\n",
    "    clean = re.sub(r'[^\\d\\-]', '', str(salary_str))\n",
    "    \n",
    "   # If it's a range like \"50000-70000\", calculate the mean\n",
    "    if '-' in clean:\n",
    "        parts = clean.split('-')\n",
    "        if len(parts) == 2:\n",
    "            try:\n",
    "                low = int(parts[0])\n",
    "                high = int(parts[1])\n",
    "                return (low + high) / 2\n",
    "            except ValueError:\n",
    "                return np.nan\n",
    "    return np.nan \n",
    "\n",
    "\n",
    "df['Salary_Avg'] = df['Salary Estimate'].apply(extract_salary_mean)\n",
    "\n",
    "\n",
    "print(df[['Salary Estimate', 'Salary_Avg']].head(10))\n",
    "\n",
    "df['Salary_Avg'] = df['Salary Estimate'].apply(extract_salary_mean)\n",
    "\n",
    "df_1 = df[['Salary_Avg', 'Rating', 'Job Description']]\n",
    "\n",
    "print(df_1.head())\n",
    "print(df_1[['Job Description']].head(10))\n",
    "\n",
    "# Function to clean text in job descriptions\n",
    "\n",
    "def clean_text(text):\n",
    "    if pd.isnull(text):\n",
    "        return \"\"\n",
    "    \n",
    "    text = text.replace('\\n', ' ').replace('\\r', ' ')\n",
    "    text = re.sub(r'<.*?>', '', text)\n",
    "    text = re.sub(r'\\s+', ' ', text)\n",
    "    text = re.sub(r'[^a-zA-Z0-9.,!?\\' ]', '', text)\n",
    "\n",
    "    return text.strip()\n",
    "\n",
    "#  Apply text cleaning to all job descriptions\n",
    "\n",
    "df_1['Cleaned_Description'] = df_1['Job Description'].apply(clean_text)\n",
    "\n",
    "def first_n_sentences(text, n=3):\n",
    "    sentences = sent_tokenize(text)\n",
    "    return \" \".join(sentences[:n])\n",
    "\n",
    "#  Add a column with only the first 3 sentences from each description to Improve firther Model Performance adn Prepare for Embeddings or NLP Tasks\n",
    "df_1['Short_Cleaned_Description'] = df_1['Cleaned_Description'].apply(lambda x: first_n_sentences(x, n=3))\n",
    "\n",
    "print(df_1[['Job Description', 'Cleaned_Description', 'Short_Cleaned_Description']].head(3))"
   ]
  },
  {
   "cell_type": "markdown",
   "metadata": {},
   "source": [
    "## 2. Attempting to split the data"
   ]
  },
  {
   "cell_type": "code",
   "execution_count": 6,
   "metadata": {},
   "outputs": [
    {
     "name": "stdout",
     "output_type": "stream",
     "text": [
      "Senior     486\n",
      "Unclear    145\n",
      "Mixed       84\n",
      "Junior      27\n",
      "Name: Experience_Level, dtype: int64\n"
     ]
    },
    {
     "name": "stderr",
     "output_type": "stream",
     "text": [
      "\n",
      "A value is trying to be set on a copy of a slice from a DataFrame.\n",
      "Try using .loc[row_indexer,col_indexer] = value instead\n",
      "\n",
      "See the caveats in the documentation: https://pandas.pydata.org/pandas-docs/stable/user_guide/indexing.html#returning-a-view-versus-a-copy\n"
     ]
    }
   ],
   "source": [
    "# Define a function to classify job descriptions into experience levels\n",
    "def classify_experience(text):\n",
    "    text = text.lower() # Convert text to lowercase to make keyword matching case-insensitive\n",
    "    \n",
    "\n",
    "    junior_keywords = ['entry level', 'junior', 'graduate', 'new grad', 'no experience', '0-1 years', '1+ years', '1 year experience']\n",
    "\n",
    "    senior_keywords = ['senior', 'lead', '5+ years', '7+ years', 'manager', 'director', '10+ years', 'extensive experience', '5 years experience']\n",
    "\n",
    "    junior = any(kw in text for kw in junior_keywords)\n",
    "    senior = any(kw in text for kw in senior_keywords)\n",
    "\n",
    "    if junior and not senior:   # Classify based on presence of keywords\n",
    "        return 'Junior'     # Only junior terms found\n",
    "    elif senior and not junior:\n",
    "        return 'Senior'     # Only senior terms found\n",
    "    elif junior and senior:\n",
    "        return 'Mixed'   # Both junior and senior terms found\n",
    "    else:\n",
    "        return 'Unclear' # No clear match\n",
    " #  Apply the classification function to each cleaned job description       \n",
    "df_1['Experience_Level'] = df_1['Cleaned_Description'].apply(classify_experience)\n",
    "print(df_1['Experience_Level'].value_counts())"
   ]
  },
  {
   "cell_type": "code",
   "execution_count": 7,
   "metadata": {},
   "outputs": [
    {
     "name": "stdout",
     "output_type": "stream",
     "text": [
      "n:\n",
      "More Experienced    570\n",
      "Less Experienced    172\n",
      "Name: Experience_Grouped, dtype: int64\n",
      "\n",
      " avg salary:\n",
      "Experience_Grouped\n",
      "Less Experienced     92.918605\n",
      "More Experienced    102.951754\n",
      "Name: Salary_Avg, dtype: float64\n"
     ]
    },
    {
     "name": "stderr",
     "output_type": "stream",
     "text": [
      "\n",
      "A value is trying to be set on a copy of a slice from a DataFrame.\n",
      "Try using .loc[row_indexer,col_indexer] = value instead\n",
      "\n",
      "See the caveats in the documentation: https://pandas.pydata.org/pandas-docs/stable/user_guide/indexing.html#returning-a-view-versus-a-copy\n"
     ]
    }
   ],
   "source": [
    "def map_experience_group(level):   # Define a function to group experience levels into broader categories\n",
    "    if level in ['Junior', 'Unclear']:\n",
    "        return 'Less Experienced'      # Group 'Junior' and 'Unclear' into 'Less Experienced'\n",
    "    elif level in ['Senior', 'Mixed']:\n",
    "        return 'More Experienced'     # Group 'Senior' and 'Mixed' into 'More Experienced'\n",
    "    else:\n",
    "        return 'Unknown' \n",
    "    \n",
    "df_1['Experience_Grouped'] = df_1['Experience_Level'].apply(map_experience_group)   # Apply the grouping function to the 'Experience_Level' column\n",
    "\n",
    "print(\"n:\")\n",
    "print(df_1['Experience_Grouped'].value_counts())\n",
    "\n",
    "print(\"\\n avg salary:\")\n",
    "print(df_1.groupby('Experience_Grouped')['Salary_Avg'].mean())"
   ]
  },
  {
   "cell_type": "code",
   "execution_count": null,
   "metadata": {},
   "outputs": [
    {
     "name": "stdout",
     "output_type": "stream",
     "text": [
      "T-statistic: 3.0586556251016406\n",
      "p-value: 0.002428637938888729\n",
      "✅ (p < 0.05).\n"
     ]
    }
   ],
   "source": [
    "\n",
    "less_exp_salaries = df_1[df_1['Experience_Grouped'] == 'Less Experienced']['Salary_Avg'].dropna()\n",
    "more_exp_salaries = df_1[df_1['Experience_Grouped'] == 'More Experienced']['Salary_Avg'].dropna()\n",
    "\n",
    "t_stat, p_val = ttest_ind(more_exp_salaries, less_exp_salaries, equal_var=False)\n",
    "\n",
    "print(\"T-statistic:\", t_stat)\n",
    "print(\"p-value:\", p_val)\n",
    "\n",
    "if p_val < 0.05:\n",
    "    print(\"✅ (p < 0.05).\")\n",
    "else:\n",
    "    print(\"❌ (p ≥ 0.05).\")"
   ]
  },
  {
   "cell_type": "markdown",
   "metadata": {},
   "source": [
    "## Preparing ML model"
   ]
  },
  {
   "cell_type": "code",
   "execution_count": null,
   "metadata": {},
   "outputs": [
    {
     "name": "stdout",
     "output_type": "stream",
     "text": [
      "📊 Classification Report:\n",
      "                  precision    recall  f1-score   support\n",
      "\n",
      "Less Experienced       0.72      0.69      0.70        55\n",
      "More Experienced       0.67      0.69      0.68        49\n",
      "\n",
      "        accuracy                           0.69       104\n",
      "       macro avg       0.69      0.69      0.69       104\n",
      "    weighted avg       0.69      0.69      0.69       104\n",
      "\n",
      "📉 Confusion Matrix:\n",
      "[[38 17]\n",
      " [15 34]]\n",
      "\n",
      "🔍 10 sample prediction results:\n",
      "     Salary_Avg  Rating      Actual_Label   Predicted_Label\n",
      "194        54.0     3.7  More Experienced  More Experienced\n",
      "157        87.0     3.7  Less Experienced  Less Experienced\n",
      "225        72.5     4.3  More Experienced  Less Experienced\n",
      "208       146.0     3.6  More Experienced  More Experienced\n",
      "318       124.0     2.6  More Experienced  Less Experienced\n",
      "329        49.0     3.9  More Experienced  Less Experienced\n",
      "319        69.5     3.7  More Experienced  More Experienced\n",
      "260        48.5     3.6  More Experienced  Less Experienced\n",
      "114        56.5     3.1  Less Experienced  More Experienced\n",
      "220        61.5     2.9  More Experienced  More Experienced\n"
     ]
    }
   ],
   "source": [
    "\n",
    "#  Select features and drop rows with missing values\n",
    "X = df_1[['Salary_Avg', 'Rating']].dropna()\n",
    "\n",
    "#  Define target variable: map experience level to binary values\n",
    "y = df_1.loc[X.index, 'Experience_Grouped'].map({'Less Experienced': 0, 'More Experienced': 1})\n",
    "\n",
    "#  Balance the dataset (undersample the majority class)\n",
    "df_bal = X.copy()\n",
    "df_bal['y'] = y\n",
    "min_class_size = df_bal['y'].value_counts().min()  # Find size of the smaller class\n",
    "df_balanced = df_bal.groupby('y').apply(lambda x: x.sample(min_class_size, random_state=42)).reset_index(drop=True)\n",
    "\n",
    "#  Redefine X and y using the balanced dataset\n",
    "X = df_balanced[['Salary_Avg', 'Rating']]\n",
    "y = df_balanced['y']\n",
    "\n",
    "#  Split data into training and test sets\n",
    "X_train, X_test, y_train, y_test = train_test_split(X, y, test_size=0.3, random_state=42)\n",
    "\n",
    "#  Train the Random Forest Classifier\n",
    "model_rf = RandomForestClassifier(random_state=42)\n",
    "model_rf.fit(X_train, y_train)\n",
    "\n",
    "#  Make predictions on the test set\n",
    "y_pred = model_rf.predict(X_test)\n",
    "\n",
    "#  Evaluate model performance\n",
    "print(\"📊 Classification Report:\")\n",
    "print(classification_report(y_test, y_pred, target_names=[\"Less Experienced\", \"More Experienced\"]))\n",
    "print(\"📉 Confusion Matrix:\")\n",
    "print(confusion_matrix(y_test, y_pred))\n",
    "\n",
    "#  Show 10 example predictions\n",
    "df_results = X_test.copy()\n",
    "df_results['Predicted'] = y_pred\n",
    "df_results['Actual'] = y_test.values\n",
    "df_results['Predicted_Label'] = df_results['Predicted'].map({0: 'Less Experienced', 1: 'More Experienced'})\n",
    "df_results['Actual_Label'] = df_results['Actual'].map({0: 'Less Experienced', 1: 'More Experienced'})\n",
    "\n",
    "print(\"\\n🔍 10 sample prediction results:\")\n",
    "print(df_results[['Salary_Avg', 'Rating', 'Actual_Label', 'Predicted_Label']].head(10))"
   ]
  },
  {
   "cell_type": "code",
   "execution_count": null,
   "metadata": {},
   "outputs": [
    {
     "name": "stderr",
     "output_type": "stream",
     "text": [
      "Some weights of BertWithExtraFeatures were not initialized from the model checkpoint at bert-base-uncased and are newly initialized: ['classifier.bias', 'classifier.weight', 'extra_layer.bias', 'extra_layer.weight']\n",
      "You should probably TRAIN this model on a down-stream task to be able to use it for predictions and inference.\n",
      "`evaluation_strategy` is deprecated and will be removed in version 4.46 of 🤗 Transformers. Use `eval_strategy` instead\n",
      "`tokenizer` is deprecated and will be removed in version 5.0.0 for `Trainer.__init__`. Use `processing_class` instead.\n"
     ]
    },
    {
     "data": {
      "application/vnd.jupyter.widget-view+json": {
       "model_id": "a24ae4c38fd741a59c4aa9fb4ce1120b",
       "version_major": 2,
       "version_minor": 0
      },
      "text/plain": [
       "  0%|          | 0/114 [00:00<?, ?it/s]"
      ]
     },
     "metadata": {},
     "output_type": "display_data"
    },
    {
     "name": "stdout",
     "output_type": "stream",
     "text": [
      "{'loss': 0.5782, 'grad_norm': 3.4078640937805176, 'learning_rate': 4.56140350877193e-05, 'epoch': 0.26}\n",
      "{'loss': 0.524, 'grad_norm': 4.02264928817749, 'learning_rate': 4.12280701754386e-05, 'epoch': 0.53}\n",
      "{'loss': 0.5874, 'grad_norm': 1.9178650379180908, 'learning_rate': 3.6842105263157895e-05, 'epoch': 0.79}\n"
     ]
    },
    {
     "data": {
      "application/vnd.jupyter.widget-view+json": {
       "model_id": "0cc64461c10744de9d0cbd8c42b819a2",
       "version_major": 2,
       "version_minor": 0
      },
      "text/plain": [
       "  0%|          | 0/10 [00:00<?, ?it/s]"
      ]
     },
     "metadata": {},
     "output_type": "display_data"
    },
    {
     "name": "stdout",
     "output_type": "stream",
     "text": [
      "{'eval_loss': 0.4993763267993927, 'eval_runtime': 54.0306, 'eval_samples_per_second': 2.758, 'eval_steps_per_second': 0.185, 'epoch': 1.0}\n",
      "{'loss': 0.5095, 'grad_norm': 1.7252320051193237, 'learning_rate': 3.24561403508772e-05, 'epoch': 1.05}\n",
      "{'loss': 0.5134, 'grad_norm': 3.705643653869629, 'learning_rate': 2.8070175438596492e-05, 'epoch': 1.32}\n",
      "{'loss': 0.4974, 'grad_norm': 3.2107698917388916, 'learning_rate': 2.368421052631579e-05, 'epoch': 1.58}\n",
      "{'loss': 0.4413, 'grad_norm': 4.119200229644775, 'learning_rate': 1.929824561403509e-05, 'epoch': 1.84}\n"
     ]
    },
    {
     "data": {
      "application/vnd.jupyter.widget-view+json": {
       "model_id": "6b75c417eb94424d9f19ba905f644554",
       "version_major": 2,
       "version_minor": 0
      },
      "text/plain": [
       "  0%|          | 0/10 [00:00<?, ?it/s]"
      ]
     },
     "metadata": {},
     "output_type": "display_data"
    },
    {
     "name": "stdout",
     "output_type": "stream",
     "text": [
      "{'eval_loss': 0.4346112608909607, 'eval_runtime': 49.9428, 'eval_samples_per_second': 2.983, 'eval_steps_per_second': 0.2, 'epoch': 2.0}\n",
      "{'loss': 0.3802, 'grad_norm': 3.6641416549682617, 'learning_rate': 1.4912280701754386e-05, 'epoch': 2.11}\n",
      "{'loss': 0.2346, 'grad_norm': 12.628549575805664, 'learning_rate': 1.0526315789473684e-05, 'epoch': 2.37}\n",
      "{'loss': 0.3151, 'grad_norm': 4.7740397453308105, 'learning_rate': 6.140350877192982e-06, 'epoch': 2.63}\n",
      "{'loss': 0.3597, 'grad_norm': 16.610326766967773, 'learning_rate': 1.7543859649122807e-06, 'epoch': 2.89}\n"
     ]
    },
    {
     "data": {
      "application/vnd.jupyter.widget-view+json": {
       "model_id": "3944cda8063b4adf810deaa6af94952c",
       "version_major": 2,
       "version_minor": 0
      },
      "text/plain": [
       "  0%|          | 0/10 [00:00<?, ?it/s]"
      ]
     },
     "metadata": {},
     "output_type": "display_data"
    },
    {
     "name": "stdout",
     "output_type": "stream",
     "text": [
      "{'eval_loss': 0.4124520421028137, 'eval_runtime': 39.7428, 'eval_samples_per_second': 3.749, 'eval_steps_per_second': 0.252, 'epoch': 3.0}\n",
      "{'train_runtime': 1970.1186, 'train_samples_per_second': 0.903, 'train_steps_per_second': 0.058, 'train_loss': 0.44161813091813473, 'epoch': 3.0}\n"
     ]
    },
    {
     "data": {
      "application/vnd.jupyter.widget-view+json": {
       "model_id": "d7a499a7a14043708401046692d4df82",
       "version_major": 2,
       "version_minor": 0
      },
      "text/plain": [
       "  0%|          | 0/10 [00:00<?, ?it/s]"
      ]
     },
     "metadata": {},
     "output_type": "display_data"
    },
    {
     "name": "stdout",
     "output_type": "stream",
     "text": [
      "\n",
      "📊 Classification Report:\n",
      "                  precision    recall  f1-score   support\n",
      "\n",
      "Less Experienced       0.67      0.40      0.50        30\n",
      "More Experienced       0.86      0.95      0.90       119\n",
      "\n",
      "        accuracy                           0.84       149\n",
      "       macro avg       0.76      0.67      0.70       149\n",
      "    weighted avg       0.82      0.84      0.82       149\n",
      "\n"
     ]
    }
   ],
   "source": [
    "\n",
    "# Load and clean dataset\n",
    "df = df_1[['Short_Cleaned_Description', 'Experience_Grouped', 'Salary_Avg', 'Rating']].dropna()\n",
    "\n",
    "# Convert target labels to numeric\n",
    "df['label'] = df['Experience_Grouped'].map({'Less Experienced': 0, 'More Experienced': 1})\n",
    "\n",
    "# Initialize BERT tokenizer\n",
    "tokenizer = BertTokenizerFast.from_pretrained('bert-base-uncased')\n",
    "\n",
    "# Scale numerical features (Salary and Rating)\n",
    "scaler = StandardScaler()\n",
    "X_extra = scaler.fit_transform(df[['Salary_Avg', 'Rating']])\n",
    "\n",
    "# Custom dataset class combining text and extra numeric features\n",
    "class BertWithExtraFeaturesDataset(Dataset):\n",
    "    def __init__(self, texts, labels, extra_features):\n",
    "        self.encodings = tokenizer(texts, truncation=True, padding=True, max_length=128)\n",
    "        self.labels = labels\n",
    "        self.extra_features = extra_features\n",
    "\n",
    "    def __getitem__(self, idx):\n",
    "        item = {key: torch.tensor(val[idx]) for key, val in self.encodings.items()}\n",
    "        item['labels'] = torch.tensor(self.labels[idx])\n",
    "        item['extra_features'] = torch.tensor(self.extra_features[idx], dtype=torch.float)\n",
    "        return item\n",
    "\n",
    "    def __len__(self):\n",
    "        return len(self.labels)\n",
    "\n",
    "# Split text, extra features and labels into train and test sets\n",
    "X_train_text, X_test_text, X_train_extra, X_test_extra, y_train, y_test = train_test_split(\n",
    "    df['Short_Cleaned_Description'], X_extra, df['label'], test_size=0.2, random_state=42\n",
    ")\n",
    "\n",
    "# Create PyTorch-compatible datasets\n",
    "train_dataset = BertWithExtraFeaturesDataset(X_train_text.tolist(), y_train.tolist(), X_train_extra)\n",
    "test_dataset = BertWithExtraFeaturesDataset(X_test_text.tolist(), y_test.tolist(), X_test_extra)\n",
    "\n",
    "# Define BERT model extended with extra features (Salary_Avg, Rating)\n",
    "class BertWithExtraFeatures(BertPreTrainedModel):\n",
    "    def __init__(self, config, extra_feature_dim=2):\n",
    "        super().__init__(config)\n",
    "        self.bert = BertModel(config)\n",
    "        self.extra_layer = nn.Linear(extra_feature_dim, 16)  # process numeric features\n",
    "        self.dropout = nn.Dropout(config.hidden_dropout_prob)\n",
    "        self.classifier = nn.Linear(config.hidden_size + 16, config.num_labels)  # concat BERT + extras\n",
    "\n",
    "    def forward(self, input_ids=None, attention_mask=None, token_type_ids=None,\n",
    "                labels=None, extra_features=None):\n",
    "        outputs = self.bert(input_ids=input_ids, attention_mask=attention_mask, token_type_ids=token_type_ids)\n",
    "        pooled_output = outputs.pooler_output\n",
    "        extra_out = torch.relu(self.extra_layer(extra_features))\n",
    "        combined = torch.cat((pooled_output, extra_out), dim=1)\n",
    "        combined = self.dropout(combined)\n",
    "        logits = self.classifier(combined)\n",
    "\n",
    "        loss = None\n",
    "        if labels is not None:\n",
    "            loss_fn = nn.CrossEntropyLoss()\n",
    "            loss = loss_fn(logits, labels)\n",
    "\n",
    "        return SequenceClassifierOutput(loss=loss, logits=logits)\n",
    "\n",
    "# Load BERT configuration and instantiate the model\n",
    "from transformers import BertConfig\n",
    "config = BertConfig.from_pretrained(\"bert-base-uncased\", num_labels=2)\n",
    "model = BertWithExtraFeatures.from_pretrained(\"bert-base-uncased\", config=config)\n",
    "\n",
    "# Define training configuration\n",
    "training_args = TrainingArguments(\n",
    "    output_dir=\"./results\",\n",
    "    per_device_train_batch_size=16,\n",
    "    per_device_eval_batch_size=16,\n",
    "    num_train_epochs=3,\n",
    "    evaluation_strategy=\"epoch\",\n",
    "    logging_dir=\"./logs\",\n",
    "    logging_steps=10,\n",
    "    save_strategy=\"no\",\n",
    ")\n",
    "\n",
    "# Custom collate function to handle extra_features during batching\n",
    "def collate_fn(batch):\n",
    "    keys = batch[0].keys()\n",
    "    return {\n",
    "        key: torch.stack([b[key] for b in batch]) if key != 'extra_features' else torch.stack([b[key] for b in batch])\n",
    "        for key in keys\n",
    "    }\n",
    "\n",
    "# Set up Trainer with datasets, model and training arguments\n",
    "trainer = Trainer(\n",
    "    model=model,\n",
    "    args=training_args,\n",
    "    train_dataset=train_dataset,\n",
    "    eval_dataset=test_dataset,\n",
    "    tokenizer=tokenizer,\n",
    "    data_collator=collate_fn\n",
    ")\n",
    "\n",
    "# Train the model\n",
    "trainer.train()\n",
    "\n",
    "# Evaluate model on test data\n",
    "preds = trainer.predict(test_dataset)\n",
    "y_pred = preds.predictions.argmax(axis=1)\n",
    "\n",
    "# Show classification results\n",
    "print(\"\\n📊 Classification Report:\")\n",
    "print(classification_report(y_test, y_pred, target_names=[\"Less Experienced\", \"More Experienced\"]))"
   ]
  },
  {
   "cell_type": "code",
   "execution_count": 18,
   "metadata": {},
   "outputs": [],
   "source": [
    "torch.save(model.extra_layer.state_dict(), \"extra_layer_weights.pt\")\n",
    "torch.save(model.classifier.state_dict(), \"classifier_weights.pt\")"
   ]
  },
  {
   "cell_type": "code",
   "execution_count": 87,
   "metadata": {},
   "outputs": [
    {
     "name": "stderr",
     "output_type": "stream",
     "text": [
      "You are using `torch.load` with `weights_only=False` (the current default value), which uses the default pickle module implicitly. It is possible to construct malicious pickle data which will execute arbitrary code during unpickling (See https://github.com/pytorch/pytorch/blob/main/SECURITY.md#untrusted-models for more details). In a future release, the default value for `weights_only` will be flipped to `True`. This limits the functions that could be executed during unpickling. Arbitrary objects will no longer be allowed to be loaded via this mode unless they are explicitly allowlisted by the user via `torch.serialization.add_safe_globals`. We recommend you start setting `weights_only=True` for any use case where you don't have full control of the loaded file. Please open an issue on GitHub for any issues related to this experimental feature.\n",
      "You are using `torch.load` with `weights_only=False` (the current default value), which uses the default pickle module implicitly. It is possible to construct malicious pickle data which will execute arbitrary code during unpickling (See https://github.com/pytorch/pytorch/blob/main/SECURITY.md#untrusted-models for more details). In a future release, the default value for `weights_only` will be flipped to `True`. This limits the functions that could be executed during unpickling. Arbitrary objects will no longer be allowed to be loaded via this mode unless they are explicitly allowlisted by the user via `torch.serialization.add_safe_globals`. We recommend you start setting `weights_only=True` for any use case where you don't have full control of the loaded file. Please open an issue on GitHub for any issues related to this experimental feature.\n"
     ]
    },
    {
     "data": {
      "text/plain": [
       "ExtraFeatureOnlyModel(\n",
       "  (extra_layer): Linear(in_features=2, out_features=16, bias=True)\n",
       "  (relu): ReLU()\n",
       "  (classifier): Linear(in_features=784, out_features=2, bias=True)\n",
       ")"
      ]
     },
     "execution_count": 87,
     "metadata": {},
     "output_type": "execute_result"
    }
   ],
   "source": [
    "\n",
    "class ExtraFeatureOnlyModel(nn.Module):\n",
    "    def __init__(self):\n",
    "        super().__init__()\n",
    "        self.extra_layer = nn.Linear(2, 16)\n",
    "        self.relu = nn.ReLU()\n",
    "        self.classifier = nn.Linear(768 + 16, 2)\n",
    "        self.dummy_bert = torch.zeros(1, 768)\n",
    "\n",
    "    def forward(self, x_extra):\n",
    "        batch_size = x_extra.size(0)\n",
    "        extra_out = self.relu(self.extra_layer(x_extra))\n",
    "        dummy_out = self.dummy_bert.repeat(batch_size, 1)\n",
    "        combined = torch.cat([dummy_out, extra_out], dim=1)\n",
    "        logits = self.classifier(combined)\n",
    "        return torch.softmax(logits, dim=1)\n",
    "\n",
    "# Instantiate the model\n",
    "light_model = ExtraFeatureOnlyModel()\n",
    "\n",
    "# Load weights from disk\n",
    "light_model.extra_layer.load_state_dict(torch.load(\"extra_layer_weights.pt\"))\n",
    "light_model.classifier.load_state_dict(torch.load(\"classifier_weights.pt\"))\n",
    "\n",
    "# Set to evaluation mode\n",
    "light_model.eval()"
   ]
  },
  {
   "cell_type": "markdown",
   "metadata": {},
   "source": [
    "### Metrics \n",
    "\n",
    "## 1/5 MEMC"
   ]
  },
  {
   "cell_type": "markdown",
   "metadata": {},
   "source": [
    "SHAP explains which features the model uses most for its prediction.\n",
    "MEMC checks how much the model's performance depends on those top features."
   ]
  },
  {
   "cell_type": "code",
   "execution_count": null,
   "metadata": {},
   "outputs": [
    {
     "name": "stdout",
     "output_type": "stream",
     "text": [
      "METRICS FOR RANDOM FOREST (model_rf)\n",
      "\n",
      "✅ RF AUC: 0.745\n",
      "✅ RF MEMC: 0.1797\n",
      "ΔAUC (top-1, top-2): [0.11428571428571432, 0.24508348794063084]\n"
     ]
    },
    {
     "data": {
      "image/png": "[encoded data removed]",
      "text/plain": [
       "<Figure size 576x165.6 with 2 Axes>"
      ]
     },
     "metadata": {
      "needs_background": "light"
     },
     "output_type": "display_data"
    }
   ],
   "source": [
    "# Disable GPU usage (prevent unnecessary memory pressure)\n",
    "os.environ[\"CUDA_VISIBLE_DEVICES\"] = \"\"\n",
    "\n",
    "print( \"METRICS FOR RANDOM FOREST (model_rf)\")\n",
    "\n",
    "# Initialize SHAP TreeExplainer (optimized for tree-based models)\n",
    "explainer_rf = shap.TreeExplainer(model_rf)\n",
    "\n",
    "# Compute SHAP values for class 1 (More Experienced)\n",
    "shap_values_rf = explainer_rf.shap_values(X_test)[1]\n",
    "\n",
    "# Rank features by average absolute SHAP value\n",
    "mean_abs_shap = np.abs(shap_values_rf).mean(axis=0)\n",
    "ranked_idx = np.argsort(-mean_abs_shap)\n",
    "\n",
    "# Get original predictions and AUC using all features\n",
    "y_pred_orig = model_rf.predict_proba(X_test)[:, 1]\n",
    "auc_orig = roc_auc_score(y_test, y_pred_orig)\n",
    "\n",
    "# Compute AUC drops after zeroing out top-1 and top-2 SHAP features\n",
    "drops = []\n",
    "for k in [1, 2]:\n",
    "    X_mut = X_test.copy()\n",
    "    for i in range(k):\n",
    "        col = X_test.columns[ranked_idx[i]]\n",
    "        X_mut[col] = 0\n",
    "    y_pred_mut = model_rf.predict_proba(X_mut)[:, 1]\n",
    "    auc_mut = roc_auc_score(y_test, y_pred_mut)\n",
    "    drops.append(auc_orig - auc_mut)\n",
    "\n",
    "# Calculate Mean Excluded Marginal Contribution (MEMC)\n",
    "memc_rf = np.mean(drops)\n",
    "\n",
    "# Print results\n",
    "print(f\"\\n RF AUC: {auc_orig:.3f}\")\n",
    "print(f\" RF MEMC: {memc_rf:.4f}\")\n",
    "print(\"ΔAUC (top-1, top-2):\", drops)\n",
    "\n",
    "shap.summary_plot(shap_values_rf, features=X_test, feature_names=X_test.columns)"
   ]
  },
  {
   "cell_type": "markdown",
   "metadata": {},
   "source": [
    "Metrics:\n",
    "\n",
    "AUC 0.745 - Good ability to distinguish between classes.\n",
    "MEMC = 0.1797 - Removing top-1 and top-2 features causes notable performance drops, showing strong reliance on key features.\n",
    "\n",
    "ΔAUC: [0.11, 0.24] - Especially the 2nd most important feature has a major influence.\n",
    "\n",
    "SHAP plot: Shows that both Salary_Avg and Rating have a modest but consistent impact."
   ]
  },
  {
   "cell_type": "code",
   "execution_count": null,
   "metadata": {},
   "outputs": [
    {
     "name": "stdout",
     "output_type": "stream",
     "text": [
      "🤖 SHAP & MEMC for Light BERT Model (only Salary/Rating)\n"
     ]
    },
    {
     "data": {
      "application/vnd.jupyter.widget-view+json": {
       "model_id": "fbcc686f0e584da3ba9ae0de464a01b0",
       "version_major": 2,
       "version_minor": 0
      },
      "text/plain": [
       "  0%|          | 0/50 [00:00<?, ?it/s]"
      ]
     },
     "metadata": {},
     "output_type": "display_data"
    },
    {
     "data": {
      "image/png": "[encoded data removed]",
      "text/plain": [
       "<Figure size 576x165.6 with 2 Axes>"
      ]
     },
     "metadata": {
      "needs_background": "light"
     },
     "output_type": "display_data"
    },
    {
     "name": "stdout",
     "output_type": "stream",
     "text": [
      "\n",
      "✅ Light BERT AUC: 0.522\n",
      "✅ Light BERT MEMC: 0.0216\n",
      "ΔAUC after removing top-1 and top-2 SHAP features: [0.021008403361344574, 0.022268907563025242]\n"
     ]
    }
   ],
   "source": [
    "print(\" SHAP & MEMC for Light BERT Model (only Salary/Rating)\")\n",
    "\n",
    "# Recreate test features (X_test_extra) after restart ===\n",
    "# Make sure 'df_1' and 'y_test' still exist in memory\n",
    "df = df_1[['Salary_Avg', 'Rating', 'Experience_Grouped']].dropna()\n",
    "df['label'] = df['Experience_Grouped'].map({'Less Experienced': 0, 'More Experienced': 1})\n",
    "\n",
    "# Rescale Salary_Avg and Rating\n",
    "scaler = StandardScaler()\n",
    "X_extra = scaler.fit_transform(df[['Salary_Avg', 'Rating']])\n",
    "\n",
    "# Re-split into train/test \n",
    "from sklearn.model_selection import train_test_split\n",
    "_, X_test_extra, _, y_test = train_test_split(\n",
    "    X_extra, df['label'], test_size=0.2, random_state=42\n",
    ")\n",
    "\n",
    "# Define light BERT prediction function\n",
    "def predict_light_model(X_np):\n",
    "    with torch.no_grad():\n",
    "        x_tensor = torch.tensor(X_np, dtype=torch.float)\n",
    "        return light_model(x_tensor).numpy()\n",
    "\n",
    "# Run SHAP analysis \n",
    "background_sample = shap.sample(X_test_extra, 100, random_state=42)\n",
    "explainer = shap.KernelExplainer(predict_light_model, background_sample)\n",
    "\n",
    "shap_values = explainer.shap_values(X_test_extra[:50])\n",
    "shap.summary_plot(shap_values, features=X_test_extra[:50], feature_names=[\"Salary_Avg\", \"Rating\"])\n",
    "\n",
    "# MEMC computation\n",
    "def compute_memc_light(predict_fn, X, y, shap_vals):\n",
    "    mean_abs_shap = np.abs(shap_vals).mean(axis=0)\n",
    "    ranked_idx = np.argsort(-mean_abs_shap)\n",
    "\n",
    "    y_pred_orig = predict_fn(X)\n",
    "    auc_orig = roc_auc_score(y, y_pred_orig)\n",
    "\n",
    "    drops = []\n",
    "    for k in [1, 2]:\n",
    "        X_mut = X.copy()\n",
    "        for i in range(k):\n",
    "            X_mut[:, ranked_idx[i]] = 0\n",
    "        y_mut = predict_fn(X_mut)\n",
    "        auc_mut = roc_auc_score(y, y_mut)\n",
    "        drops.append(auc_orig - auc_mut)\n",
    "\n",
    "    return np.mean(drops), drops, auc_orig\n",
    "\n",
    "memc, drops, auc = compute_memc_light(predict_light_model, X_test_extra, y_test.values, shap_values)\n",
    "print(f\"\\n Light BERT AUC: {auc:.3f}\")\n",
    "print(f\" Light BERT MEMC: {memc:.4f}\")\n",
    "print(\"ΔAUC after removing top-1 and top-2 SHAP features:\", drops)"
   ]
  },
  {
   "cell_type": "markdown",
   "metadata": {},
   "source": [
    "Metrics:\n",
    "AUC = 0.522 - Near-random guessing (no meaningful signal captured).\n",
    "MEMC = 0.0216 - Removing top features barely changes the output. Weak explanatory power of the model.\n",
    "\n",
    "ΔAUC: [0.021, 0.022] → Marginal performance drop.Plot - SHAP values are more negative, meaning the model slightly favors predicting \"Less Experienced\" based on Salary_Avg and Rating"
   ]
  },
  {
   "cell_type": "markdown",
   "metadata": {},
   "source": [
    "Random Forest clearly outperforms the Light BERT model trained on Salary_Avg and Rating alone.\n",
    "\n",
    "It detects useful patterns and relies strongly on the top features.\n",
    "\n",
    "The Light BERT model likely suffers because it doesn’t use the BERT text embedding at all, only a small extra layer — hence, it performs like a weak linear model on two scaled variables"
   ]
  },
  {
   "cell_type": "markdown",
   "metadata": {},
   "source": [
    "## 2/5 AUPRC Top-k Feature Selection"
   ]
  },
  {
   "cell_type": "markdown",
   "metadata": {},
   "source": [
    "Trains a separate model using only the top 1 or 2 most important features (based on SHAP).\n",
    "Measures how much predictive power they carry on their own, via AUPRC.\n",
    "Useful for testing SHAP precision — if top features lead to high AUPRC, SHAP ranking is effective."
   ]
  },
  {
   "cell_type": "code",
   "execution_count": null,
   "metadata": {},
   "outputs": [
    {
     "name": "stdout",
     "output_type": "stream",
     "text": [
      "✅ AUPRC (Top-1 SHAP feature): 0.651\n",
      "✅ AUPRC (Top-2 SHAP features): 0.684\n"
     ]
    }
   ],
   "source": [
    "# Set environment to avoid GPU issues\n",
    "os.environ[\"CUDA_VISIBLE_DEVICES\"] = \"\"\n",
    "\n",
    "# STEP 1: Prepare the data\n",
    "X = df_1[['Salary_Avg', 'Rating']].dropna()\n",
    "y = df_1.loc[X.index, 'Experience_Grouped'].map({'Less Experienced': 0, 'More Experienced': 1})\n",
    "\n",
    "# Balance the dataset\n",
    "df_bal = X.copy()\n",
    "df_bal['y'] = y\n",
    "min_class_size = df_bal['y'].value_counts().min()\n",
    "df_balanced = df_bal.groupby('y').apply(lambda x: x.sample(min_class_size, random_state=42)).reset_index(drop=True)\n",
    "\n",
    "# Redefine X and y from balanced set\n",
    "X = df_balanced[['Salary_Avg', 'Rating']]\n",
    "y = df_balanced['y']\n",
    "\n",
    "# Split into train/test\n",
    "X_train, X_test, y_train, y_test = train_test_split(X, y, test_size=0.3, random_state=42)\n",
    "\n",
    "# STEP 2: Train main RF model\n",
    "model_rf = RandomForestClassifier(random_state=42)\n",
    "model_rf.fit(X_train, y_train)\n",
    "\n",
    "# STEP 3: Compute SHAP values on training data\n",
    "explainer_rf = shap.TreeExplainer(model_rf)\n",
    "shap_values_rf_train = explainer_rf.shap_values(X_train)[1]  # Use class 1 SHAP values\n",
    "\n",
    "# STEP 4: Define AUPRC top-k metric function\n",
    "def compute_auprc_topk_rf(X_train, y_train, X_test, y_test, shap_values_train, k):\n",
    "    # Rank features by mean SHAP value\n",
    "    mean_abs_shap = np.abs(shap_values_train).mean(axis=0)\n",
    "    ranked_idx = np.argsort(-mean_abs_shap)\n",
    "    topk_features = X_train.columns[ranked_idx[:k]]\n",
    "\n",
    "    # Select top-k features\n",
    "    X_train_topk = X_train[topk_features]\n",
    "    X_test_topk = X_test[topk_features]\n",
    "\n",
    "    # Train new RF model\n",
    "    model_topk = RandomForestClassifier(random_state=42)\n",
    "    model_topk.fit(X_train_topk, y_train)\n",
    "\n",
    "    # Predict probabilities\n",
    "    y_proba = model_topk.predict_proba(X_test_topk)[:, 1]\n",
    "\n",
    "    # Compute AUPRC\n",
    "    precision, recall, _ = precision_recall_curve(y_test, y_proba)\n",
    "    auprc = auc(recall, precision)\n",
    "\n",
    "    return auprc\n",
    "\n",
    "# STEP 5: Evaluate AUPRC for top-1 and top-2 SHAP features\n",
    "auprc_k1 = compute_auprc_topk_rf(X_train, y_train, X_test, y_test, shap_values_rf_train, k=1)\n",
    "auprc_k2 = compute_auprc_topk_rf(X_train, y_train, X_test, y_test, shap_values_rf_train, k=2)\n",
    "\n",
    "# STEP 6: Output results\n",
    "print(f\" AUPRC (Top-1 SHAP feature): {auprc_k1:.3f}\")\n",
    "print(f\" AUPRC (Top-2 SHAP features): {auprc_k2:.3f}\")"
   ]
  },
  {
   "cell_type": "markdown",
   "metadata": {},
   "source": [
    "The top-1 feature alone explains 65% of the area under the precision-recall curve — already strong.\n",
    "Adding the second top feature improves performance only slightly (+3%), reaching 68% AUPRC. So SHAP’s feature ranking appears trustworthy in this context."
   ]
  },
  {
   "cell_type": "code",
   "execution_count": null,
   "metadata": {},
   "outputs": [
    {
     "data": {
      "application/vnd.jupyter.widget-view+json": {
       "model_id": "c1f14eba18fd4c87bca8c23df224c292",
       "version_major": 2,
       "version_minor": 0
      },
      "text/plain": [
       "  0%|          | 0/50 [00:00<?, ?it/s]"
      ]
     },
     "metadata": {},
     "output_type": "display_data"
    },
    {
     "name": "stdout",
     "output_type": "stream",
     "text": [
      "✅ Light BERT AUPRC (Top-1 SHAP feature): 0.733\n",
      "✅ Light BERT AUPRC (Top-2 SHAP features): 0.752\n"
     ]
    }
   ],
   "source": [
    "# ensure predict_light_model and light_model are already defined and loaded \n",
    "\n",
    "# Prepare data\n",
    "# Recreate X_test_extra and y_test (already standardized and split before)\n",
    "df = df_1[['Salary_Avg', 'Rating', 'Experience_Grouped']].dropna()\n",
    "df['label'] = df['Experience_Grouped'].map({'Less Experienced': 0, 'More Experienced': 1})\n",
    "\n",
    "from sklearn.preprocessing import StandardScaler\n",
    "scaler = StandardScaler()\n",
    "X_extra = scaler.fit_transform(df[['Salary_Avg', 'Rating']])\n",
    "\n",
    "from sklearn.model_selection import train_test_split\n",
    "_, X_test_extra, _, y_test = train_test_split(\n",
    "    X_extra, df['label'], test_size=0.2, random_state=42\n",
    ")\n",
    "\n",
    "# SHAP values on 50 samples\n",
    "background_sample = shap.sample(X_test_extra, 100, random_state=42)\n",
    "\n",
    "# Define prediction wrapper\n",
    "def predict_light_model(X_np):\n",
    "    with torch.no_grad():\n",
    "        x_tensor = torch.tensor(X_np, dtype=torch.float)\n",
    "        return light_model(x_tensor).numpy()\n",
    "\n",
    "explainer = shap.KernelExplainer(predict_light_model, background_sample)\n",
    "\n",
    "# Only explain 50 samples (speed optimization)\n",
    "X_used = X_test_extra[:50]\n",
    "y_used = y_test.values[:50]\n",
    "\n",
    "shap_values = explainer.shap_values(X_used)\n",
    "\n",
    "# AUPRC Top-k function\n",
    "def compute_auprc_topk_light(predict_fn, X, y, shap_vals, k):\n",
    "    \"\"\"\n",
    "    Compute AUPRC for Light BERT model using only top-k SHAP features.\n",
    "    \"\"\"\n",
    "    # 1. Rank SHAP features by average importance\n",
    "    mean_abs_shap = np.abs(shap_vals).mean(axis=0)\n",
    "    ranked_idx = np.argsort(-mean_abs_shap)\n",
    "\n",
    "    # 2. Zero out non-top-k features\n",
    "    X_topk = X.copy()\n",
    "    for i in range(X.shape[1]):\n",
    "        if i not in ranked_idx[:k]:\n",
    "            X_topk[:, i] = 0.0\n",
    "\n",
    "    # 3. Predict\n",
    "    y_proba = predict_fn(X_topk)\n",
    "\n",
    "    # 4. Compute AUPRC\n",
    "    precision, recall, _ = precision_recall_curve(y, y_proba)\n",
    "    return auc(recall, precision)\n",
    "\n",
    "# Run metric for k=1 and k=2\n",
    "auprc_k1_light = compute_auprc_topk_light(predict_light_model, X_used, y_used, shap_values, k=1)\n",
    "auprc_k2_light = compute_auprc_topk_light(predict_light_model, X_used, y_used, shap_values, k=2)\n",
    "\n",
    "# Print results\n",
    "print(f\"✅ Light BERT AUPRC (Top-1 SHAP feature): {auprc_k1_light:.3f}\")\n",
    "print(f\"✅ Light BERT AUPRC (Top-2 SHAP features): {auprc_k2_light:.3f}\")"
   ]
  },
  {
   "cell_type": "markdown",
   "metadata": {},
   "source": [
    "The top-1 feature alone explains 73% of the area under the precision-recall curve — already strong.\n",
    "Adding the second top feature improves performance only slightly (+2%), reaching 75% AUPRC. So SHAP’s feature ranking appears trustworthy in this context."
   ]
  },
  {
   "cell_type": "markdown",
   "metadata": {},
   "source": [
    "Comparison: \n",
    "- Light BERT consistently achieves higher AUPRC for both Top-1 and Top-2 SHAP features.\n",
    "\n",
    "- This means it makes more precise predictions at higher recall levels even when operating with fewer features."
   ]
  },
  {
   "cell_type": "markdown",
   "metadata": {},
   "source": [
    "## 3/5 Local Fidelity & LIME Agreement "
   ]
  },
  {
   "cell_type": "markdown",
   "metadata": {},
   "source": [
    "It compares SHAP and LIME explanations across 50 instances.\n",
    "\n",
    "Uses Spearman rank correlation to see how similarly they rank feature importance.\n",
    "\n",
    "Do SHAP and LIME agree on which features matter most?"
   ]
  },
  {
   "cell_type": "code",
   "execution_count": null,
   "metadata": {},
   "outputs": [
    {
     "name": "stdout",
     "output_type": "stream",
     "text": [
      "⚠️ Cannot compute LIME Agreement: One of the vectors is constant.\n",
      "⚠️ Could not compute Local Fidelity: 'Explanation' object has no attribute 'synthetic_data'\n"
     ]
    },
    {
     "name": "stderr",
     "output_type": "stream",
     "text": [
      "X does not have valid feature names, but RandomForestClassifier was fitted with feature names\n"
     ]
    }
   ],
   "source": [
    "#  Prepare LIME explainer\n",
    "lime_explainer = lime.lime_tabular.LimeTabularExplainer(\n",
    "    training_data=X_train.values,\n",
    "    feature_names=X_train.columns.tolist(),\n",
    "    class_names=[\"Less Experienced\", \"More Experienced\"],\n",
    "    mode=\"classification\",\n",
    "    discretize_continuous=True\n",
    ")\n",
    "\n",
    "# Generate LIME explanation for a sample instance\n",
    "i = 0  # index of test sample\n",
    "instance = X_test.iloc[i].values\n",
    "\n",
    "exp = lime_explainer.explain_instance(\n",
    "    data_row=instance,\n",
    "    predict_fn=model_rf.predict_proba,\n",
    "    num_features=len(X_test.columns)\n",
    ")\n",
    "\n",
    "# LIME weights vector \n",
    "lime_weights = dict(exp.as_list(label=1))\n",
    "lime_vec = np.array([lime_weights.get(feat, 0.0) for feat in X_test.columns])\n",
    "\n",
    "# SHAP values vector\n",
    "shap_vec = shap_values_rf[i]\n",
    "\n",
    "# Compute LIME Agreement\n",
    "if np.std(lime_vec) == 0 or np.std(shap_vec) == 0:\n",
    "    print(\" Cannot compute LIME Agreement: One of the vectors is constant.\")\n",
    "else:\n",
    "    rho, pval = spearmanr(shap_vec, lime_vec)\n",
    "    print(f\" LIME Agreement (Spearman): {rho:.3f} (p={pval:.4f})\")\n",
    "\n",
    "#  Compute Local Fidelity\n",
    "try:\n",
    "    # Use public LIME API to access perturbed data\n",
    "    neighborhood = pd.DataFrame(exp.synthetic_data, columns=X_train.columns)\n",
    "    true_preds = model_rf.predict_proba(neighborhood)[:, 1]\n",
    "    surrogate_preds = exp.predictor(exp.synthetic_data)\n",
    "\n",
    "    fidelity = 1 - mean_squared_error(true_preds, surrogate_preds)\n",
    "    print(f\" Local Fidelity: {fidelity:.4f}\")\n",
    "except Exception as e:\n",
    "    print(\" Could not compute Local Fidelity:\", e)\n",
    "\n"
   ]
  },
  {
   "cell_type": "code",
   "execution_count": null,
   "metadata": {},
   "outputs": [
    {
     "name": "stdout",
     "output_type": "stream",
     "text": [
      " No observation had sufficient variability for correlation.\n",
      "SHAP vec: [0.01659278 0.04203222]\n",
      "LIME vec: [0 0]\n"
     ]
    }
   ],
   "source": [
    "X_sample = X_test.iloc[:50]  # Sample the first 50 rows of test data and corresponding SHAP values\n",
    "shap_sample = shap_values_rf[:50]\n",
    "\n",
    "def predict_with_feature_names(data_as_array):  # Function to adapt model prediction for LIME\n",
    "    df = pd.DataFrame(data_as_array, columns=X.columns)\n",
    "    return model_rf.predict_proba(df)\n",
    "\n",
    "lime_explainer = LimeTabularExplainer(  # Initialize LIME explainer\n",
    "    training_data=X_train.values,\n",
    "    feature_names=X.columns.tolist(),\n",
    "    mode=\"classification\",\n",
    "    discretize_continuous=True,\n",
    "    random_state=42\n",
    ")\n",
    "\n",
    "spearman_scores = []  # Store Spearman correlation scores between SHAP and LIME for each instance\n",
    "\n",
    "for i in range(len(X_sample)):\n",
    "    lime_exp = lime_explainer.explain_instance(\n",
    "        X_sample.iloc[i].values,\n",
    "        predict_with_feature_names,\n",
    "        num_features=X.shape[1]\n",
    "    )\n",
    "\n",
    "    shap_vec = shap_sample[i, :]  # Get SHAP and LIME explanations for the same instance\n",
    "    lime_dict = dict(lime_exp.as_list())\n",
    "    lime_vec = np.array([lime_dict.get(col, 0) for col in X.columns])   # Convert LIME dict to a vector aligned with SHAP (using all features)\n",
    "\n",
    "    if len(np.unique(shap_vec)) <= 1 or len(np.unique(lime_vec)) <= 1:\n",
    "        continue\n",
    "\n",
    "    corr, _ = spearmanr(shap_vec, np.abs(lime_vec))\n",
    "    spearman_scores.append(corr)\n",
    "\n",
    "if spearman_scores:\n",
    "    mean_corr = np.mean(spearman_scores)\n",
    "    print(f\" Mean rank correlation (Spearman) SHAP vs. LIME {mean_corr:.3f}\")\n",
    "else:\n",
    "    print(\" No observation had sufficient variability for correlation.\")\n",
    "\n",
    "print(\"SHAP vec:\", shap_vec)\n",
    "print(\"LIME vec:\", lime_vec)"
   ]
  },
  {
   "cell_type": "markdown",
   "metadata": {},
   "source": [
    "Attributes importance to at least one feature (Rating)"
   ]
  },
  {
   "cell_type": "code",
   "execution_count": null,
   "metadata": {},
   "outputs": [
    {
     "name": "stdout",
     "output_type": "stream",
     "text": [
      "⚠️ No valid samples had variability for computing correlation.\n",
      "🔎 Last SHAP vector: [-8.69348645e-05  4.02195156e-04]\n",
      "🔎 Last LIME vector: [0 0]\n"
     ]
    }
   ],
   "source": [
    "# Inputs\n",
    "X_sample_bert = X_test_extra[:50] # First 50 test instances\n",
    "shap_sample_bert = shap_values  # Corresponding SHAP values\n",
    "feature_names = [\"Salary_Avg\", \"Rating\"]\n",
    "\n",
    "# LIME explainer\n",
    "lime_explainer_bert = LimeTabularExplainer(\n",
    "    training_data=X_test_extra,  # Background dataset for LIME\n",
    "    feature_names=feature_names,\n",
    "    mode=\"classification\",\n",
    "    discretize_continuous=True,\n",
    "    random_state=42\n",
    ")\n",
    "\n",
    "# Define prediction wrapper for the light_mod\n",
    "def predict_with_feature_names_bert(data_as_array):\n",
    "    with torch.no_grad():\n",
    "        data_tensor = torch.tensor(data_as_array, dtype=torch.float32)\n",
    "        return light_model(data_tensor).cpu().numpy()\n",
    "\n",
    "# Spearman correlation between SHAP and LIME (LIME Agreement)\n",
    "spearman_scores_bert = []\n",
    "\n",
    "for i in range(len(X_sample_bert)): # Generate local explanation with LIME\n",
    "    lime_exp = lime_explainer_bert.explain_instance(\n",
    "        X_sample_bert[i],\n",
    "        predict_with_feature_names_bert,\n",
    "        num_features=2  \n",
    "    )\n",
    "\n",
    "    shap_vec = shap_sample_bert[i]   # SHAP values for this instance\n",
    "    lime_dict = dict(lime_exp.as_list(label=1))  # LIME weights for class 1\n",
    "    lime_vec = np.array([lime_dict.get(col, 0) for col in feature_names])\n",
    "\n",
    "    if len(np.unique(shap_vec)) <= 1 or len(np.unique(lime_vec)) <= 1:\n",
    "        continue\n",
    "# Compute Spearman rank correlation\n",
    "    corr, _ = spearmanr(shap_vec, np.abs(lime_vec))\n",
    "    spearman_scores_bert.append(corr)\n",
    "\n",
    "# Result\n",
    "if spearman_scores_bert:\n",
    "    mean_corr = np.mean(spearman_scores_bert)\n",
    "    print(f\" Mean Spearman rank correlation SHAP vs. LIME for light_model: {mean_corr:.3f}\")\n",
    "else:\n",
    "    print(\" No valid samples had variability for computing correlation.\")\n",
    "\n",
    "# Show last instance explanation vectors\n",
    "print(\" Last SHAP vector:\", shap_vec)\n",
    "print(\" Last LIME vector:\", lime_vec)\n"
   ]
  },
  {
   "cell_type": "markdown",
   "metadata": {},
   "source": [
    "Random Forest learned a stronger relationship between the input features and the target label than Light BERT did"
   ]
  },
  {
   "cell_type": "markdown",
   "metadata": {},
   "source": [
    "- LIME vec is [0, 0] → LIME assigned zero importance to both features for this instance.\n",
    "\n",
    "- [0, 0] doesn’t mean LIME failed — it means no feature had enough local influence to be considered important in that instance. and  the model have only 2 features\n",
    "\n",
    "\n",
    "The outcome: for the models with only 2 features lime is actually not the best tool bc: \n",
    "\n",
    "1. There’s very little variability to explore.\n",
    "\n",
    "2. The model might appear flat or non-responsive to local changes.\n",
    "\n",
    "3. LIME may assign zero weights if no clear linear pattern is found\n",
    "\n",
    "4. You often get less reliable or uninformative explanations (e.g., [0, 0])."
   ]
  },
  {
   "cell_type": "markdown",
   "metadata": {},
   "source": [
    "## 4/5 Infidelity  & Sensitivity (Max-Sensitivity)"
   ]
  },
  {
   "cell_type": "markdown",
   "metadata": {},
   "source": [
    "Infidelity measures how well SHAP approximates the model's actual prediction change when the input is perturbed.\n",
    "\n",
    "Sensitivity measures how much SHAP values change when the input changes a little (ideally: not too much)."
   ]
  },
  {
   "cell_type": "code",
   "execution_count": null,
   "metadata": {},
   "outputs": [
    {
     "name": "stderr",
     "output_type": "stream",
     "text": [
      "X does not have valid feature names, but RandomForestClassifier was fitted with feature names\n",
      "X does not have valid feature names, but RandomForestClassifier was fitted with feature names\n",
      "X does not have valid feature names, but RandomForestClassifier was fitted with feature names\n",
      "X does not have valid feature names, but RandomForestClassifier was fitted with feature names\n",
      "X does not have valid feature names, but RandomForestClassifier was fitted with feature names\n",
      "X does not have valid feature names, but RandomForestClassifier was fitted with feature names\n",
      "X does not have valid feature names, but RandomForestClassifier was fitted with feature names\n",
      "X does not have valid feature names, but RandomForestClassifier was fitted with feature names\n",
      "X does not have valid feature names, but RandomForestClassifier was fitted with feature names\n",
      "X does not have valid feature names, but RandomForestClassifier was fitted with feature names\n",
      "X does not have valid feature names, but RandomForestClassifier was fitted with feature names\n",
      "X does not have valid feature names, but RandomForestClassifier was fitted with feature names\n",
      "X does not have valid feature names, but RandomForestClassifier was fitted with feature names\n",
      "X does not have valid feature names, but RandomForestClassifier was fitted with feature names\n",
      "X does not have valid feature names, but RandomForestClassifier was fitted with feature names\n",
      "X does not have valid feature names, but RandomForestClassifier was fitted with feature names\n",
      "X does not have valid feature names, but RandomForestClassifier was fitted with feature names\n",
      "X does not have valid feature names, but RandomForestClassifier was fitted with feature names\n",
      "X does not have valid feature names, but RandomForestClassifier was fitted with feature names\n",
      "X does not have valid feature names, but RandomForestClassifier was fitted with feature names\n",
      "X does not have valid feature names, but RandomForestClassifier was fitted with feature names\n",
      "X does not have valid feature names, but RandomForestClassifier was fitted with feature names\n",
      "X does not have valid feature names, but RandomForestClassifier was fitted with feature names\n",
      "X does not have valid feature names, but RandomForestClassifier was fitted with feature names\n",
      "X does not have valid feature names, but RandomForestClassifier was fitted with feature names\n",
      "X does not have valid feature names, but RandomForestClassifier was fitted with feature names\n",
      "X does not have valid feature names, but RandomForestClassifier was fitted with feature names\n",
      "X does not have valid feature names, but RandomForestClassifier was fitted with feature names\n",
      "X does not have valid feature names, but RandomForestClassifier was fitted with feature names\n",
      "X does not have valid feature names, but RandomForestClassifier was fitted with feature names\n",
      "X does not have valid feature names, but RandomForestClassifier was fitted with feature names\n",
      "X does not have valid feature names, but RandomForestClassifier was fitted with feature names\n",
      "X does not have valid feature names, but RandomForestClassifier was fitted with feature names\n",
      "X does not have valid feature names, but RandomForestClassifier was fitted with feature names\n",
      "X does not have valid feature names, but RandomForestClassifier was fitted with feature names\n",
      "X does not have valid feature names, but RandomForestClassifier was fitted with feature names\n",
      "X does not have valid feature names, but RandomForestClassifier was fitted with feature names\n",
      "X does not have valid feature names, but RandomForestClassifier was fitted with feature names\n",
      "X does not have valid feature names, but RandomForestClassifier was fitted with feature names\n",
      "X does not have valid feature names, but RandomForestClassifier was fitted with feature names\n",
      "X does not have valid feature names, but RandomForestClassifier was fitted with feature names\n",
      "X does not have valid feature names, but RandomForestClassifier was fitted with feature names\n",
      "X does not have valid feature names, but RandomForestClassifier was fitted with feature names\n",
      "X does not have valid feature names, but RandomForestClassifier was fitted with feature names\n",
      "X does not have valid feature names, but RandomForestClassifier was fitted with feature names\n",
      "X does not have valid feature names, but RandomForestClassifier was fitted with feature names\n",
      "X does not have valid feature names, but RandomForestClassifier was fitted with feature names\n",
      "X does not have valid feature names, but RandomForestClassifier was fitted with feature names\n",
      "X does not have valid feature names, but RandomForestClassifier was fitted with feature names\n",
      "X does not have valid feature names, but RandomForestClassifier was fitted with feature names\n",
      "X does not have valid feature names, but RandomForestClassifier was fitted with feature names\n",
      "X does not have valid feature names, but RandomForestClassifier was fitted with feature names\n",
      "X does not have valid feature names, but RandomForestClassifier was fitted with feature names\n",
      "X does not have valid feature names, but RandomForestClassifier was fitted with feature names\n",
      "X does not have valid feature names, but RandomForestClassifier was fitted with feature names\n",
      "X does not have valid feature names, but RandomForestClassifier was fitted with feature names\n",
      "X does not have valid feature names, but RandomForestClassifier was fitted with feature names\n",
      "X does not have valid feature names, but RandomForestClassifier was fitted with feature names\n",
      "X does not have valid feature names, but RandomForestClassifier was fitted with feature names\n",
      "X does not have valid feature names, but RandomForestClassifier was fitted with feature names\n",
      "X does not have valid feature names, but RandomForestClassifier was fitted with feature names\n",
      "X does not have valid feature names, but RandomForestClassifier was fitted with feature names\n",
      "X does not have valid feature names, but RandomForestClassifier was fitted with feature names\n",
      "X does not have valid feature names, but RandomForestClassifier was fitted with feature names\n",
      "X does not have valid feature names, but RandomForestClassifier was fitted with feature names\n",
      "X does not have valid feature names, but RandomForestClassifier was fitted with feature names\n",
      "X does not have valid feature names, but RandomForestClassifier was fitted with feature names\n",
      "X does not have valid feature names, but RandomForestClassifier was fitted with feature names\n",
      "X does not have valid feature names, but RandomForestClassifier was fitted with feature names\n",
      "X does not have valid feature names, but RandomForestClassifier was fitted with feature names\n",
      "X does not have valid feature names, but RandomForestClassifier was fitted with feature names\n",
      "X does not have valid feature names, but RandomForestClassifier was fitted with feature names\n",
      "X does not have valid feature names, but RandomForestClassifier was fitted with feature names\n",
      "X does not have valid feature names, but RandomForestClassifier was fitted with feature names\n",
      "X does not have valid feature names, but RandomForestClassifier was fitted with feature names\n",
      "X does not have valid feature names, but RandomForestClassifier was fitted with feature names\n",
      "X does not have valid feature names, but RandomForestClassifier was fitted with feature names\n",
      "X does not have valid feature names, but RandomForestClassifier was fitted with feature names\n",
      "X does not have valid feature names, but RandomForestClassifier was fitted with feature names\n",
      "X does not have valid feature names, but RandomForestClassifier was fitted with feature names\n",
      "X does not have valid feature names, but RandomForestClassifier was fitted with feature names\n",
      "X does not have valid feature names, but RandomForestClassifier was fitted with feature names\n",
      "X does not have valid feature names, but RandomForestClassifier was fitted with feature names\n",
      "X does not have valid feature names, but RandomForestClassifier was fitted with feature names\n",
      "X does not have valid feature names, but RandomForestClassifier was fitted with feature names\n",
      "X does not have valid feature names, but RandomForestClassifier was fitted with feature names\n",
      "X does not have valid feature names, but RandomForestClassifier was fitted with feature names\n",
      "X does not have valid feature names, but RandomForestClassifier was fitted with feature names\n",
      "X does not have valid feature names, but RandomForestClassifier was fitted with feature names\n",
      "X does not have valid feature names, but RandomForestClassifier was fitted with feature names\n",
      "X does not have valid feature names, but RandomForestClassifier was fitted with feature names\n",
      "X does not have valid feature names, but RandomForestClassifier was fitted with feature names\n",
      "X does not have valid feature names, but RandomForestClassifier was fitted with feature names\n",
      "X does not have valid feature names, but RandomForestClassifier was fitted with feature names\n",
      "X does not have valid feature names, but RandomForestClassifier was fitted with feature names\n",
      "X does not have valid feature names, but RandomForestClassifier was fitted with feature names\n",
      "X does not have valid feature names, but RandomForestClassifier was fitted with feature names\n",
      "X does not have valid feature names, but RandomForestClassifier was fitted with feature names\n",
      "X does not have valid feature names, but RandomForestClassifier was fitted with feature names\n",
      "X does not have valid feature names, but RandomForestClassifier was fitted with feature names\n",
      "X does not have valid feature names, but RandomForestClassifier was fitted with feature names\n",
      "X does not have valid feature names, but RandomForestClassifier was fitted with feature names\n",
      "X does not have valid feature names, but RandomForestClassifier was fitted with feature names\n",
      "X does not have valid feature names, but RandomForestClassifier was fitted with feature names\n",
      "X does not have valid feature names, but RandomForestClassifier was fitted with feature names\n",
      "X does not have valid feature names, but RandomForestClassifier was fitted with feature names\n",
      "X does not have valid feature names, but RandomForestClassifier was fitted with feature names\n",
      "X does not have valid feature names, but RandomForestClassifier was fitted with feature names\n",
      "X does not have valid feature names, but RandomForestClassifier was fitted with feature names\n",
      "X does not have valid feature names, but RandomForestClassifier was fitted with feature names\n",
      "X does not have valid feature names, but RandomForestClassifier was fitted with feature names\n",
      "X does not have valid feature names, but RandomForestClassifier was fitted with feature names\n",
      "X does not have valid feature names, but RandomForestClassifier was fitted with feature names\n",
      "X does not have valid feature names, but RandomForestClassifier was fitted with feature names\n",
      "X does not have valid feature names, but RandomForestClassifier was fitted with feature names\n",
      "X does not have valid feature names, but RandomForestClassifier was fitted with feature names\n",
      "X does not have valid feature names, but RandomForestClassifier was fitted with feature names\n",
      "X does not have valid feature names, but RandomForestClassifier was fitted with feature names\n",
      "X does not have valid feature names, but RandomForestClassifier was fitted with feature names\n",
      "X does not have valid feature names, but RandomForestClassifier was fitted with feature names\n",
      "X does not have valid feature names, but RandomForestClassifier was fitted with feature names\n",
      "X does not have valid feature names, but RandomForestClassifier was fitted with feature names\n",
      "X does not have valid feature names, but RandomForestClassifier was fitted with feature names\n",
      "X does not have valid feature names, but RandomForestClassifier was fitted with feature names\n",
      "X does not have valid feature names, but RandomForestClassifier was fitted with feature names\n",
      "X does not have valid feature names, but RandomForestClassifier was fitted with feature names\n",
      "X does not have valid feature names, but RandomForestClassifier was fitted with feature names\n",
      "X does not have valid feature names, but RandomForestClassifier was fitted with feature names\n",
      "X does not have valid feature names, but RandomForestClassifier was fitted with feature names\n",
      "X does not have valid feature names, but RandomForestClassifier was fitted with feature names\n",
      "X does not have valid feature names, but RandomForestClassifier was fitted with feature names\n",
      "X does not have valid feature names, but RandomForestClassifier was fitted with feature names\n",
      "X does not have valid feature names, but RandomForestClassifier was fitted with feature names\n",
      "X does not have valid feature names, but RandomForestClassifier was fitted with feature names\n",
      "X does not have valid feature names, but RandomForestClassifier was fitted with feature names\n",
      "X does not have valid feature names, but RandomForestClassifier was fitted with feature names\n",
      "X does not have valid feature names, but RandomForestClassifier was fitted with feature names\n",
      "X does not have valid feature names, but RandomForestClassifier was fitted with feature names\n",
      "X does not have valid feature names, but RandomForestClassifier was fitted with feature names\n",
      "X does not have valid feature names, but RandomForestClassifier was fitted with feature names\n",
      "X does not have valid feature names, but RandomForestClassifier was fitted with feature names\n",
      "X does not have valid feature names, but RandomForestClassifier was fitted with feature names\n",
      "X does not have valid feature names, but RandomForestClassifier was fitted with feature names\n",
      "X does not have valid feature names, but RandomForestClassifier was fitted with feature names\n",
      "X does not have valid feature names, but RandomForestClassifier was fitted with feature names\n",
      "X does not have valid feature names, but RandomForestClassifier was fitted with feature names\n",
      "X does not have valid feature names, but RandomForestClassifier was fitted with feature names\n",
      "X does not have valid feature names, but RandomForestClassifier was fitted with feature names\n",
      "X does not have valid feature names, but RandomForestClassifier was fitted with feature names\n",
      "X does not have valid feature names, but RandomForestClassifier was fitted with feature names\n",
      "X does not have valid feature names, but RandomForestClassifier was fitted with feature names\n",
      "X does not have valid feature names, but RandomForestClassifier was fitted with feature names\n",
      "X does not have valid feature names, but RandomForestClassifier was fitted with feature names\n",
      "X does not have valid feature names, but RandomForestClassifier was fitted with feature names\n",
      "X does not have valid feature names, but RandomForestClassifier was fitted with feature names\n",
      "X does not have valid feature names, but RandomForestClassifier was fitted with feature names\n",
      "X does not have valid feature names, but RandomForestClassifier was fitted with feature names\n",
      "X does not have valid feature names, but RandomForestClassifier was fitted with feature names\n",
      "X does not have valid feature names, but RandomForestClassifier was fitted with feature names\n",
      "X does not have valid feature names, but RandomForestClassifier was fitted with feature names\n",
      "X does not have valid feature names, but RandomForestClassifier was fitted with feature names\n",
      "X does not have valid feature names, but RandomForestClassifier was fitted with feature names\n",
      "X does not have valid feature names, but RandomForestClassifier was fitted with feature names\n",
      "X does not have valid feature names, but RandomForestClassifier was fitted with feature names\n",
      "X does not have valid feature names, but RandomForestClassifier was fitted with feature names\n",
      "X does not have valid feature names, but RandomForestClassifier was fitted with feature names\n",
      "X does not have valid feature names, but RandomForestClassifier was fitted with feature names\n",
      "X does not have valid feature names, but RandomForestClassifier was fitted with feature names\n",
      "X does not have valid feature names, but RandomForestClassifier was fitted with feature names\n",
      "X does not have valid feature names, but RandomForestClassifier was fitted with feature names\n",
      "X does not have valid feature names, but RandomForestClassifier was fitted with feature names\n",
      "X does not have valid feature names, but RandomForestClassifier was fitted with feature names\n",
      "X does not have valid feature names, but RandomForestClassifier was fitted with feature names\n",
      "X does not have valid feature names, but RandomForestClassifier was fitted with feature names\n",
      "X does not have valid feature names, but RandomForestClassifier was fitted with feature names\n",
      "X does not have valid feature names, but RandomForestClassifier was fitted with feature names\n",
      "X does not have valid feature names, but RandomForestClassifier was fitted with feature names\n",
      "X does not have valid feature names, but RandomForestClassifier was fitted with feature names\n",
      "X does not have valid feature names, but RandomForestClassifier was fitted with feature names\n",
      "X does not have valid feature names, but RandomForestClassifier was fitted with feature names\n",
      "X does not have valid feature names, but RandomForestClassifier was fitted with feature names\n",
      "X does not have valid feature names, but RandomForestClassifier was fitted with feature names\n",
      "X does not have valid feature names, but RandomForestClassifier was fitted with feature names\n",
      "X does not have valid feature names, but RandomForestClassifier was fitted with feature names\n",
      "X does not have valid feature names, but RandomForestClassifier was fitted with feature names\n",
      "X does not have valid feature names, but RandomForestClassifier was fitted with feature names\n",
      "X does not have valid feature names, but RandomForestClassifier was fitted with feature names\n",
      "X does not have valid feature names, but RandomForestClassifier was fitted with feature names\n",
      "X does not have valid feature names, but RandomForestClassifier was fitted with feature names\n",
      "X does not have valid feature names, but RandomForestClassifier was fitted with feature names\n",
      "X does not have valid feature names, but RandomForestClassifier was fitted with feature names\n",
      "X does not have valid feature names, but RandomForestClassifier was fitted with feature names\n",
      "X does not have valid feature names, but RandomForestClassifier was fitted with feature names\n",
      "X does not have valid feature names, but RandomForestClassifier was fitted with feature names\n",
      "X does not have valid feature names, but RandomForestClassifier was fitted with feature names\n",
      "X does not have valid feature names, but RandomForestClassifier was fitted with feature names\n",
      "X does not have valid feature names, but RandomForestClassifier was fitted with feature names\n",
      "X does not have valid feature names, but RandomForestClassifier was fitted with feature names\n",
      "X does not have valid feature names, but RandomForestClassifier was fitted with feature names\n"
     ]
    },
    {
     "name": "stdout",
     "output_type": "stream",
     "text": [
      " Infidelity (avg): 0.0067\n",
      " Max-Sensitivity (avg): 4.1306\n"
     ]
    },
    {
     "name": "stderr",
     "output_type": "stream",
     "text": [
      "X does not have valid feature names, but RandomForestClassifier was fitted with feature names\n"
     ]
    }
   ],
   "source": [
    "epsilon = 0.01  \n",
    "n_samples = 100   # Number of random samples to evaluate\n",
    "np.random.seed(42)\n",
    "\n",
    "infidelity_scores = [] # Will store infidelity for each sampled instance\n",
    "sensitivity_scores = []\n",
    "\n",
    "for _ in range(n_samples): # Loop over n_samples random test instances\n",
    "    i = np.random.randint(0, len(X_test))\n",
    "    x_orig = X_test.iloc[i].values.reshape(1, -1)\n",
    "    shap_orig = shap_values_rf[i]\n",
    "\n",
    "    delta = np.random.normal(0, epsilon, size=x_orig.shape)\n",
    "    x_perturbed = x_orig + delta\n",
    "\n",
    "    f_diff = model_rf.predict_proba(x_orig)[0,1] - model_rf.predict_proba(x_perturbed)[0,1] # Compute model output change due to input perturbation\n",
    "    shap_dot = delta @ shap_orig.reshape(-1,1)  # Dot product of SHAP values and delta vector (model-predicted change)\n",
    "    infidelity = np.abs(shap_dot - f_diff)\n",
    "    infidelity_scores.append(float(infidelity))\n",
    "\n",
    "    shap_perturbed = shap.Explainer(model_rf, X_test)(x_perturbed, check_additivity=False)[...,1].values[0] # Compute SHAP values for the perturbed input\n",
    "    sensitivity = np.linalg.norm(shap_perturbed - shap_orig) / np.linalg.norm(delta)\n",
    "    sensitivity_scores.append(float(sensitivity))  # Sensitivity = how much SHAP values change due to a small input change\n",
    "\n",
    "print(f\" Infidelity (avg): {np.mean(infidelity_scores):.4f}\")\n",
    "print(f\" Max-Sensitivity (avg): {np.mean(sensitivity_scores):.4f}\")"
   ]
  },
  {
   "cell_type": "markdown",
   "metadata": {},
   "source": [
    "Infidelity is low, but not perfect. SHAP values explain model behavior reasonably well.\n",
    "\n",
    "Max-Sensitivity is very high (4.13). SHAP values are unstable, change heavily with small input noise.\n",
    "\n",
    "This suggests Random Forest SHAP explanations are globally decent but locally unreliable."
   ]
  },
  {
   "cell_type": "code",
   "execution_count": null,
   "metadata": {},
   "outputs": [
    {
     "name": "stdout",
     "output_type": "stream",
     "text": [
      "🤖 SHAP Infidelity & Sensitivity for Light BERT\n"
     ]
    },
    {
     "data": {
      "application/vnd.jupyter.widget-view+json": {
       "model_id": "c0bc03ac1b614e8f946f3c82e266f60d",
       "version_major": 2,
       "version_minor": 0
      },
      "text/plain": [
       "  0%|          | 0/50 [00:00<?, ?it/s]"
      ]
     },
     "metadata": {},
     "output_type": "display_data"
    },
    {
     "data": {
      "application/vnd.jupyter.widget-view+json": {
       "model_id": "17c3d3aae75e4d1c84ca38c13b657c8f",
       "version_major": 2,
       "version_minor": 0
      },
      "text/plain": [
       "  0%|          | 0/1 [00:00<?, ?it/s]"
      ]
     },
     "metadata": {},
     "output_type": "display_data"
    },
    {
     "data": {
      "application/vnd.jupyter.widget-view+json": {
       "model_id": "77f38044031c41f0b5e23f3a65c6c5d8",
       "version_major": 2,
       "version_minor": 0
      },
      "text/plain": [
       "  0%|          | 0/1 [00:00<?, ?it/s]"
      ]
     },
     "metadata": {},
     "output_type": "display_data"
    },
    {
     "data": {
      "application/vnd.jupyter.widget-view+json": {
       "model_id": "d824e1a7e82f4023b1af60e1e5a626b2",
       "version_major": 2,
       "version_minor": 0
      },
      "text/plain": [
       "  0%|          | 0/1 [00:00<?, ?it/s]"
      ]
     },
     "metadata": {},
     "output_type": "display_data"
    },
    {
     "data": {
      "application/vnd.jupyter.widget-view+json": {
       "model_id": "f8c40b2927fa4efbb532508d9867c9c3",
       "version_major": 2,
       "version_minor": 0
      },
      "text/plain": [
       "  0%|          | 0/1 [00:00<?, ?it/s]"
      ]
     },
     "metadata": {},
     "output_type": "display_data"
    },
    {
     "data": {
      "application/vnd.jupyter.widget-view+json": {
       "model_id": "a5db3e4b3d5e447b81d02fc923476a81",
       "version_major": 2,
       "version_minor": 0
      },
      "text/plain": [
       "  0%|          | 0/1 [00:00<?, ?it/s]"
      ]
     },
     "metadata": {},
     "output_type": "display_data"
    },
    {
     "data": {
      "application/vnd.jupyter.widget-view+json": {
       "model_id": "2f216c7f6daa4fb4a2697ebe84c419dc",
       "version_major": 2,
       "version_minor": 0
      },
      "text/plain": [
       "  0%|          | 0/1 [00:00<?, ?it/s]"
      ]
     },
     "metadata": {},
     "output_type": "display_data"
    },
    {
     "data": {
      "application/vnd.jupyter.widget-view+json": {
       "model_id": "2de6d2c64edd478c88feb2f32e97c043",
       "version_major": 2,
       "version_minor": 0
      },
      "text/plain": [
       "  0%|          | 0/1 [00:00<?, ?it/s]"
      ]
     },
     "metadata": {},
     "output_type": "display_data"
    },
    {
     "data": {
      "application/vnd.jupyter.widget-view+json": {
       "model_id": "6f4bcd6d170d4ee5a96c3e7c169a8c93",
       "version_major": 2,
       "version_minor": 0
      },
      "text/plain": [
       "  0%|          | 0/1 [00:00<?, ?it/s]"
      ]
     },
     "metadata": {},
     "output_type": "display_data"
    },
    {
     "data": {
      "application/vnd.jupyter.widget-view+json": {
       "model_id": "ed279e8e6ccb4e3aaad954829c960705",
       "version_major": 2,
       "version_minor": 0
      },
      "text/plain": [
       "  0%|          | 0/1 [00:00<?, ?it/s]"
      ]
     },
     "metadata": {},
     "output_type": "display_data"
    },
    {
     "data": {
      "application/vnd.jupyter.widget-view+json": {
       "model_id": "6629e3bf69864f8da71522fee3ba6466",
       "version_major": 2,
       "version_minor": 0
      },
      "text/plain": [
       "  0%|          | 0/1 [00:00<?, ?it/s]"
      ]
     },
     "metadata": {},
     "output_type": "display_data"
    },
    {
     "data": {
      "application/vnd.jupyter.widget-view+json": {
       "model_id": "1ff4d5fffe72438aa2771f34f6e5161a",
       "version_major": 2,
       "version_minor": 0
      },
      "text/plain": [
       "  0%|          | 0/1 [00:00<?, ?it/s]"
      ]
     },
     "metadata": {},
     "output_type": "display_data"
    },
    {
     "data": {
      "application/vnd.jupyter.widget-view+json": {
       "model_id": "e6ebedf2fe314ee29fc6a558e3ba4c2f",
       "version_major": 2,
       "version_minor": 0
      },
      "text/plain": [
       "  0%|          | 0/1 [00:00<?, ?it/s]"
      ]
     },
     "metadata": {},
     "output_type": "display_data"
    },
    {
     "data": {
      "application/vnd.jupyter.widget-view+json": {
       "model_id": "57f76978d97f4e97a5cd27cff31f8011",
       "version_major": 2,
       "version_minor": 0
      },
      "text/plain": [
       "  0%|          | 0/1 [00:00<?, ?it/s]"
      ]
     },
     "metadata": {},
     "output_type": "display_data"
    },
    {
     "data": {
      "application/vnd.jupyter.widget-view+json": {
       "model_id": "d6628eb064dd4b6193ba921ebd1ee0a1",
       "version_major": 2,
       "version_minor": 0
      },
      "text/plain": [
       "  0%|          | 0/1 [00:00<?, ?it/s]"
      ]
     },
     "metadata": {},
     "output_type": "display_data"
    },
    {
     "data": {
      "application/vnd.jupyter.widget-view+json": {
       "model_id": "783907bb88054c63afb3bd8b2c194acb",
       "version_major": 2,
       "version_minor": 0
      },
      "text/plain": [
       "  0%|          | 0/1 [00:00<?, ?it/s]"
      ]
     },
     "metadata": {},
     "output_type": "display_data"
    },
    {
     "data": {
      "application/vnd.jupyter.widget-view+json": {
       "model_id": "de1e5ac1bb4048198f9f1e6c9382305a",
       "version_major": 2,
       "version_minor": 0
      },
      "text/plain": [
       "  0%|          | 0/1 [00:00<?, ?it/s]"
      ]
     },
     "metadata": {},
     "output_type": "display_data"
    },
    {
     "data": {
      "application/vnd.jupyter.widget-view+json": {
       "model_id": "4ca65285d1a14b2cbbd5e14845d84388",
       "version_major": 2,
       "version_minor": 0
      },
      "text/plain": [
       "  0%|          | 0/1 [00:00<?, ?it/s]"
      ]
     },
     "metadata": {},
     "output_type": "display_data"
    },
    {
     "data": {
      "application/vnd.jupyter.widget-view+json": {
       "model_id": "c91275eeba354b09ab59e1dbc3f6f5c8",
       "version_major": 2,
       "version_minor": 0
      },
      "text/plain": [
       "  0%|          | 0/1 [00:00<?, ?it/s]"
      ]
     },
     "metadata": {},
     "output_type": "display_data"
    },
    {
     "data": {
      "application/vnd.jupyter.widget-view+json": {
       "model_id": "e3cb79b5212d4ea7895518a348665aad",
       "version_major": 2,
       "version_minor": 0
      },
      "text/plain": [
       "  0%|          | 0/1 [00:00<?, ?it/s]"
      ]
     },
     "metadata": {},
     "output_type": "display_data"
    },
    {
     "data": {
      "application/vnd.jupyter.widget-view+json": {
       "model_id": "6593638cd48145b5bbf866a662e85d00",
       "version_major": 2,
       "version_minor": 0
      },
      "text/plain": [
       "  0%|          | 0/1 [00:00<?, ?it/s]"
      ]
     },
     "metadata": {},
     "output_type": "display_data"
    },
    {
     "data": {
      "application/vnd.jupyter.widget-view+json": {
       "model_id": "05d4c2ac112642dbb6a412fb0dc5db70",
       "version_major": 2,
       "version_minor": 0
      },
      "text/plain": [
       "  0%|          | 0/1 [00:00<?, ?it/s]"
      ]
     },
     "metadata": {},
     "output_type": "display_data"
    },
    {
     "data": {
      "application/vnd.jupyter.widget-view+json": {
       "model_id": "f1faf3e417f6492fa00d8820b4162b3e",
       "version_major": 2,
       "version_minor": 0
      },
      "text/plain": [
       "  0%|          | 0/1 [00:00<?, ?it/s]"
      ]
     },
     "metadata": {},
     "output_type": "display_data"
    },
    {
     "data": {
      "application/vnd.jupyter.widget-view+json": {
       "model_id": "32807641a05848259fc0e8979011e6ee",
       "version_major": 2,
       "version_minor": 0
      },
      "text/plain": [
       "  0%|          | 0/1 [00:00<?, ?it/s]"
      ]
     },
     "metadata": {},
     "output_type": "display_data"
    },
    {
     "data": {
      "application/vnd.jupyter.widget-view+json": {
       "model_id": "4f38263ae3ca4d8f9edad14e38825ae7",
       "version_major": 2,
       "version_minor": 0
      },
      "text/plain": [
       "  0%|          | 0/1 [00:00<?, ?it/s]"
      ]
     },
     "metadata": {},
     "output_type": "display_data"
    },
    {
     "data": {
      "application/vnd.jupyter.widget-view+json": {
       "model_id": "eb665361b6ea452591164c19ed9724ae",
       "version_major": 2,
       "version_minor": 0
      },
      "text/plain": [
       "  0%|          | 0/1 [00:00<?, ?it/s]"
      ]
     },
     "metadata": {},
     "output_type": "display_data"
    },
    {
     "data": {
      "application/vnd.jupyter.widget-view+json": {
       "model_id": "584f57f03f6c48098358bb5c3888e895",
       "version_major": 2,
       "version_minor": 0
      },
      "text/plain": [
       "  0%|          | 0/1 [00:00<?, ?it/s]"
      ]
     },
     "metadata": {},
     "output_type": "display_data"
    },
    {
     "data": {
      "application/vnd.jupyter.widget-view+json": {
       "model_id": "07a81b8f9261496ab713d7d59cd31458",
       "version_major": 2,
       "version_minor": 0
      },
      "text/plain": [
       "  0%|          | 0/1 [00:00<?, ?it/s]"
      ]
     },
     "metadata": {},
     "output_type": "display_data"
    },
    {
     "data": {
      "application/vnd.jupyter.widget-view+json": {
       "model_id": "d588a0bf968f482f9b68bdf14d991a22",
       "version_major": 2,
       "version_minor": 0
      },
      "text/plain": [
       "  0%|          | 0/1 [00:00<?, ?it/s]"
      ]
     },
     "metadata": {},
     "output_type": "display_data"
    },
    {
     "data": {
      "application/vnd.jupyter.widget-view+json": {
       "model_id": "e688aea7d7954b73b9ca5fb93856ace9",
       "version_major": 2,
       "version_minor": 0
      },
      "text/plain": [
       "  0%|          | 0/1 [00:00<?, ?it/s]"
      ]
     },
     "metadata": {},
     "output_type": "display_data"
    },
    {
     "data": {
      "application/vnd.jupyter.widget-view+json": {
       "model_id": "e75062abb329425994ff47515b132635",
       "version_major": 2,
       "version_minor": 0
      },
      "text/plain": [
       "  0%|          | 0/1 [00:00<?, ?it/s]"
      ]
     },
     "metadata": {},
     "output_type": "display_data"
    },
    {
     "data": {
      "application/vnd.jupyter.widget-view+json": {
       "model_id": "a2e9e69e80de436399afde8926312b88",
       "version_major": 2,
       "version_minor": 0
      },
      "text/plain": [
       "  0%|          | 0/1 [00:00<?, ?it/s]"
      ]
     },
     "metadata": {},
     "output_type": "display_data"
    },
    {
     "data": {
      "application/vnd.jupyter.widget-view+json": {
       "model_id": "764c545efbd348458ff7626b06beac70",
       "version_major": 2,
       "version_minor": 0
      },
      "text/plain": [
       "  0%|          | 0/1 [00:00<?, ?it/s]"
      ]
     },
     "metadata": {},
     "output_type": "display_data"
    },
    {
     "data": {
      "application/vnd.jupyter.widget-view+json": {
       "model_id": "cd1b1c2284714516ad05476733f71102",
       "version_major": 2,
       "version_minor": 0
      },
      "text/plain": [
       "  0%|          | 0/1 [00:00<?, ?it/s]"
      ]
     },
     "metadata": {},
     "output_type": "display_data"
    },
    {
     "data": {
      "application/vnd.jupyter.widget-view+json": {
       "model_id": "cd1286824ce14a27a842065ab01eb993",
       "version_major": 2,
       "version_minor": 0
      },
      "text/plain": [
       "  0%|          | 0/1 [00:00<?, ?it/s]"
      ]
     },
     "metadata": {},
     "output_type": "display_data"
    },
    {
     "data": {
      "application/vnd.jupyter.widget-view+json": {
       "model_id": "b4b8f3aee55a4487a33b7116e71f85c0",
       "version_major": 2,
       "version_minor": 0
      },
      "text/plain": [
       "  0%|          | 0/1 [00:00<?, ?it/s]"
      ]
     },
     "metadata": {},
     "output_type": "display_data"
    },
    {
     "data": {
      "application/vnd.jupyter.widget-view+json": {
       "model_id": "6acf3cdcdfa045ddb65114574994497e",
       "version_major": 2,
       "version_minor": 0
      },
      "text/plain": [
       "  0%|          | 0/1 [00:00<?, ?it/s]"
      ]
     },
     "metadata": {},
     "output_type": "display_data"
    },
    {
     "data": {
      "application/vnd.jupyter.widget-view+json": {
       "model_id": "851d0b807d73484db4dc9c8fbedf0dd2",
       "version_major": 2,
       "version_minor": 0
      },
      "text/plain": [
       "  0%|          | 0/1 [00:00<?, ?it/s]"
      ]
     },
     "metadata": {},
     "output_type": "display_data"
    },
    {
     "data": {
      "application/vnd.jupyter.widget-view+json": {
       "model_id": "d314a44c2f854d10a34792eac834ce8d",
       "version_major": 2,
       "version_minor": 0
      },
      "text/plain": [
       "  0%|          | 0/1 [00:00<?, ?it/s]"
      ]
     },
     "metadata": {},
     "output_type": "display_data"
    },
    {
     "data": {
      "application/vnd.jupyter.widget-view+json": {
       "model_id": "5d4dbdac62be454e843a36a41d42f42f",
       "version_major": 2,
       "version_minor": 0
      },
      "text/plain": [
       "  0%|          | 0/1 [00:00<?, ?it/s]"
      ]
     },
     "metadata": {},
     "output_type": "display_data"
    },
    {
     "data": {
      "application/vnd.jupyter.widget-view+json": {
       "model_id": "c5db114b9b8e48fbad61e10a93898b49",
       "version_major": 2,
       "version_minor": 0
      },
      "text/plain": [
       "  0%|          | 0/1 [00:00<?, ?it/s]"
      ]
     },
     "metadata": {},
     "output_type": "display_data"
    },
    {
     "data": {
      "application/vnd.jupyter.widget-view+json": {
       "model_id": "99c44350becd4dc4afd69d042e47a848",
       "version_major": 2,
       "version_minor": 0
      },
      "text/plain": [
       "  0%|          | 0/1 [00:00<?, ?it/s]"
      ]
     },
     "metadata": {},
     "output_type": "display_data"
    },
    {
     "data": {
      "application/vnd.jupyter.widget-view+json": {
       "model_id": "9ce6008e3b3140688e3ccf95055af81b",
       "version_major": 2,
       "version_minor": 0
      },
      "text/plain": [
       "  0%|          | 0/1 [00:00<?, ?it/s]"
      ]
     },
     "metadata": {},
     "output_type": "display_data"
    },
    {
     "data": {
      "application/vnd.jupyter.widget-view+json": {
       "model_id": "6c33a9056a914a96a98267bdec45a77f",
       "version_major": 2,
       "version_minor": 0
      },
      "text/plain": [
       "  0%|          | 0/1 [00:00<?, ?it/s]"
      ]
     },
     "metadata": {},
     "output_type": "display_data"
    },
    {
     "data": {
      "application/vnd.jupyter.widget-view+json": {
       "model_id": "afbe096ee5a94ff4a0ebda6bfda1d366",
       "version_major": 2,
       "version_minor": 0
      },
      "text/plain": [
       "  0%|          | 0/1 [00:00<?, ?it/s]"
      ]
     },
     "metadata": {},
     "output_type": "display_data"
    },
    {
     "data": {
      "application/vnd.jupyter.widget-view+json": {
       "model_id": "eeaca137299d450088f37e3df9ab1a88",
       "version_major": 2,
       "version_minor": 0
      },
      "text/plain": [
       "  0%|          | 0/1 [00:00<?, ?it/s]"
      ]
     },
     "metadata": {},
     "output_type": "display_data"
    },
    {
     "data": {
      "application/vnd.jupyter.widget-view+json": {
       "model_id": "b83622c29a014935b620c57ce2a43f95",
       "version_major": 2,
       "version_minor": 0
      },
      "text/plain": [
       "  0%|          | 0/1 [00:00<?, ?it/s]"
      ]
     },
     "metadata": {},
     "output_type": "display_data"
    },
    {
     "data": {
      "application/vnd.jupyter.widget-view+json": {
       "model_id": "32ac8d7e8a9e4c5b959af8cd93bb6b82",
       "version_major": 2,
       "version_minor": 0
      },
      "text/plain": [
       "  0%|          | 0/1 [00:00<?, ?it/s]"
      ]
     },
     "metadata": {},
     "output_type": "display_data"
    },
    {
     "data": {
      "application/vnd.jupyter.widget-view+json": {
       "model_id": "035afa5cd2764f288bb8beb15b835933",
       "version_major": 2,
       "version_minor": 0
      },
      "text/plain": [
       "  0%|          | 0/1 [00:00<?, ?it/s]"
      ]
     },
     "metadata": {},
     "output_type": "display_data"
    },
    {
     "data": {
      "application/vnd.jupyter.widget-view+json": {
       "model_id": "2314ed29274749f89ce8768b94afbdb3",
       "version_major": 2,
       "version_minor": 0
      },
      "text/plain": [
       "  0%|          | 0/1 [00:00<?, ?it/s]"
      ]
     },
     "metadata": {},
     "output_type": "display_data"
    },
    {
     "data": {
      "application/vnd.jupyter.widget-view+json": {
       "model_id": "f294b1d20d124bd4a068da0099fd6005",
       "version_major": 2,
       "version_minor": 0
      },
      "text/plain": [
       "  0%|          | 0/1 [00:00<?, ?it/s]"
      ]
     },
     "metadata": {},
     "output_type": "display_data"
    },
    {
     "name": "stdout",
     "output_type": "stream",
     "text": [
      "\n",
      "📊 Light BERT Infidelity (avg): 0.0000\n",
      "📊 Light BERT Max-Sensitivity (avg): 0.0003\n"
     ]
    }
   ],
   "source": [
    "np.random.seed(42)\n",
    "\n",
    "print(\" SHAP Infidelity & Sensitivity for Light BERT\")\n",
    "\n",
    "# Prepare test features and labels\n",
    "df = df_1[['Salary_Avg', 'Rating', 'Experience_Grouped']].dropna()\n",
    "df['label'] = df['Experience_Grouped'].map({'Less Experienced': 0, 'More Experienced': 1})\n",
    "\n",
    "scaler = StandardScaler()\n",
    "X_extra = scaler.fit_transform(df[['Salary_Avg', 'Rating']])\n",
    "\n",
    "_, X_test_extra, _, y_test = train_test_split(\n",
    "    X_extra, df['label'], test_size=0.2, random_state=42\n",
    ")\n",
    "\n",
    "# Define prediction function \n",
    "def predict_light_model(X_np):\n",
    "    with torch.no_grad():\n",
    "        x_tensor = torch.tensor(X_np, dtype=torch.float)\n",
    "        return light_model(x_tensor).numpy()  # shape: (n_samples, 1)\n",
    "\n",
    "# Run SHAP KernelExplainer\n",
    "background_sample = shap.sample(X_test_extra, 100, random_state=42)\n",
    "explainer = shap.KernelExplainer(predict_light_model, background_sample)\n",
    "\n",
    "# Compute SHAP values for first 50 test samples\n",
    "X_shap_bert = X_test_extra[:50]\n",
    "shap_values_bert_class1 = explainer.shap_values(X_shap_bert)  # Already shape (50, 2)\n",
    "\n",
    "# Sanity check\n",
    "assert shap_values_bert_class1.shape == X_shap_bert.shape\n",
    "\n",
    "# Compute Infidelity & Sensitivity\n",
    "epsilon = 0.01  \n",
    "n_samples = 50\n",
    "\n",
    "infidelity_scores_bert = []\n",
    "sensitivity_scores_bert = []\n",
    "\n",
    "for _ in range(n_samples):\n",
    "    i_bert = np.random.randint(0, X_shap_bert.shape[0])\n",
    "    x_orig_bert = X_shap_bert[i_bert].reshape(1, -1)\n",
    "    shap_orig_bert = shap_values_bert_class1[i_bert]\n",
    "\n",
    "    delta_bert = np.random.normal(0, epsilon, size=x_orig_bert.shape)\n",
    "    x_perturbed_bert = x_orig_bert + delta_bert\n",
    "\n",
    "    f_diff_bert = predict_light_model(x_orig_bert)[0] - predict_light_model(x_perturbed_bert)[0]\n",
    "    shap_dot_bert = delta_bert @ shap_orig_bert.reshape(-1, 1)\n",
    "    infidelity_bert = np.abs(shap_dot_bert - f_diff_bert)\n",
    "    infidelity_scores_bert.append(float(infidelity_bert))\n",
    "\n",
    "    shap_perturbed_bert = explainer.shap_values(x_perturbed_bert)[0]  # shape: (1, 2)\n",
    "    sensitivity_bert = np.linalg.norm(shap_perturbed_bert - shap_orig_bert) / np.linalg.norm(delta_bert)\n",
    "    sensitivity_scores_bert.append(float(sensitivity_bert))\n",
    "\n",
    "# Output results \n",
    "print(f\"\\n Light BERT Infidelity (avg): {np.mean(infidelity_scores_bert):.4f}\")\n",
    "print(f\" Light BERT Max-Sensitivity (avg): {np.mean(sensitivity_scores_bert):.4f}\")"
   ]
  },
  {
   "cell_type": "markdown",
   "metadata": {},
   "source": [
    "Infidelity is near zero → SHAP values closely track the model’s actual behavior.\n",
    "\n",
    "Max-Sensitivity is also very low (0.0003) → explanations are highly stable.\n",
    "\n",
    "This means SHAP provides both accurate and robust explanations for the BERT model."
   ]
  },
  {
   "cell_type": "markdown",
   "metadata": {},
   "source": [
    "SHAP explanations are accurate but not robust — they match the model well, but are sensitive to small input changes."
   ]
  },
  {
   "cell_type": "markdown",
   "metadata": {},
   "source": [
    "# Comparison\n",
    "\n",
    "Light BERT is clearly better on both metrics:\n",
    "\n",
    "More faithful (lower infidelity)\n",
    "\n",
    "More stable (lower sensitivity)\n",
    "\n",
    "This suggests:\n",
    "\n",
    "BERT’s predictions are smoother, more linear, or better-behaved in SHAP's local approximation space.\n",
    "\n",
    "Or the Light BERT model has less abrupt decision boundaries than the Random Forest"
   ]
  },
  {
   "cell_type": "markdown",
   "metadata": {},
   "source": [
    "## 5/5 Monotonicity / Trend Test"
   ]
  },
  {
   "cell_type": "markdown",
   "metadata": {},
   "source": [
    "Whether SHAP values for Salary_Avg increase or decrease monotonically as salary increases.\n",
    "\n",
    "A high Spearman ρ (rho) (near +1 or -1) indicates a strong monotonic trend.\n",
    "\n",
    "A low p-value means the trend is statistically significant."
   ]
  },
  {
   "cell_type": "code",
   "execution_count": null,
   "metadata": {},
   "outputs": [
    {
     "name": "stdout",
     "output_type": "stream",
     "text": [
      " Spearman ρ for Salary_Avg vs. SHAP(Salary_Avg): 0.067 (p=0.8548)\n"
     ]
    },
    {
     "data": {
      "image/png": "[encoded data removed]",
      "text/plain": [
       "<Figure size 432x288 with 1 Axes>"
      ]
     },
     "metadata": {
      "needs_background": "light"
     },
     "output_type": "display_data"
    }
   ],
   "source": [
    "df_monotonic = X_test.copy() # Create a copy of the test set\n",
    "df_monotonic['SHAP_Salary'] = shap_values_rf[:, X.columns.get_loc('Salary_Avg')]  # Add the SHAP values for the feature 'Salary_Avg' as a new column\n",
    "\n",
    "df_monotonic['Salary_Decile'] = pd.qcut(df_monotonic['Salary_Avg'], 10, labels=False)  # Create deciles for the 'Salary_Avg' feature to group salaries into 10 equally sized bins\n",
    "\n",
    "trend = df_monotonic.groupby('Salary_Decile')['SHAP_Salary'].mean().reset_index()  # Calculate the average SHAP value for each salary decile\n",
    "\n",
    "rho, pval = spearmanr(trend['Salary_Decile'], trend['SHAP_Salary'])  # Compute Spearman correlation to measure monotonicity between salary level and SHAP value\n",
    "print(f\" Spearman ρ for Salary_Avg vs. SHAP(Salary_Avg): {rho:.3f} (p={pval:.4f})\")\n",
    "\n",
    "plt.plot(trend['Salary_Decile'], trend['SHAP_Salary'], marker='o')\n",
    "plt.xlabel('Decyl Salary_Avg')\n",
    "plt.ylabel('avg SHAP dla Salary_Avg')\n",
    "plt.title('Monotonicity test: SHAP vs. Salary_Avg')\n",
    "plt.grid(True)\n",
    "plt.show()\n"
   ]
  },
  {
   "cell_type": "markdown",
   "metadata": {},
   "source": [
    "Random Forest provides unstable and non-monotonic explanations for Salary_Avg.\n",
    "\n",
    "Spearman ρ = 0.067, p = 0.8548:\n",
    "ρ ≈ 0 → No monotonic relationship between Salary_Avg and its SHAP value.\n",
    "\n",
    "p-value > 0.85 → Result is statistically insignificant. The pattern is random\n",
    "\n",
    "Plot Interpretation:\n",
    "The SHAP values fluctuate wildly across salary deciles.\n",
    "\n",
    "No clear upward or downward trend — instead, it’s noisy and irregular.\n",
    "\n",
    "Indicates Random Forest sees no consistent relationship between salary and the predicted class (\"More Experienced\")."
   ]
  },
  {
   "cell_type": "code",
   "execution_count": null,
   "metadata": {},
   "outputs": [
    {
     "name": "stdout",
     "output_type": "stream",
     "text": [
      "📈 Spearman ρ for Salary_Avg vs. SHAP(Salary_Avg): -0.612 (p=0.0600)\n"
     ]
    },
    {
     "data": {
      "image/png": "[encoded data removed]",
      "text/plain": [
       "<Figure size 432x288 with 1 Axes>"
      ]
     },
     "metadata": {
      "needs_background": "light"
     },
     "output_type": "display_data"
    }
   ],
   "source": [
    "\n",
    "#Recreate the deciled dataset\n",
    "df_monotonic_bert = pd.DataFrame(X_shap_bert, columns=['Salary_Avg', 'Rating'])  # Match scaled column names\n",
    "df_monotonic_bert['SHAP_Salary'] = shap_values_bert_class1[:, 0]  # SHAP for Salary_Avg (feature 0)\n",
    "\n",
    "# Group Salary_Avg into deciles\n",
    "df_monotonic_bert['Salary_Decile'] = pd.qcut(df_monotonic_bert['Salary_Avg'], 10, labels=False)\n",
    "\n",
    "# Average SHAP value per decile\n",
    "trend_bert = df_monotonic_bert.groupby('Salary_Decile')['SHAP_Salary'].mean().reset_index()\n",
    "\n",
    "# Spearman correlation (monotonicity)\n",
    "rho_bert, pval_bert = spearmanr(trend_bert['Salary_Decile'], trend_bert['SHAP_Salary'])\n",
    "print(f\"📈 Spearman ρ for Salary_Avg vs. SHAP(Salary_Avg): {rho_bert:.3f} (p={pval_bert:.4f})\")\n",
    "\n",
    "# Plot\n",
    "plt.plot(trend_bert['Salary_Decile'], trend_bert['SHAP_Salary'], marker='o')\n",
    "plt.xlabel('Decile of Salary_Avg (scaled)')\n",
    "plt.ylabel('Avg SHAP for Salary_Avg')\n",
    "plt.title('Monotonicity Test (Light BERT): SHAP vs. Salary_Avg')\n",
    "plt.grid(True)\n",
    "plt.show()"
   ]
  },
  {
   "cell_type": "markdown",
   "metadata": {},
   "source": [
    "Spearman ρ = –0.612, p = 0.0600: Moderate negative correlation between Salary_Avg and its SHAP value.\n",
    "As salary increases, the SHAP importance tends to decrease — higher salaries contribute less positively (or more negatively) to the prediction of being \"More Experienced.\"\n",
    "p-value ~ 0.06 → borderline significant. There's some evidence of monotonicity, but it’s not statistically strong at the 0.05 threshold.\n",
    "\n",
    "Plot: Clear downward trend in SHAP values from lower to higher salary deciles (left to right). Flattening and slight rebound in last deciles → SHAP values stop decreasing and may rise again for the highest salaries."
   ]
  },
  {
   "cell_type": "markdown",
   "metadata": {},
   "source": [
    "Comparison:\n",
    "\n",
    "Light BERT is clearly more explainable:\n",
    "Its SHAP values are accurate, stable, and show a monotonic relationship with salary.\n",
    "Random Forest, while still valid, offers noisy and inconsistent explanations for the same feature."
   ]
  },
  {
   "cell_type": "markdown",
   "metadata": {},
   "source": []
  }
 ],
 "metadata": {
  "kernelspec": {
   "display_name": "base",
   "language": "python",
   "name": "python3"
  },
  "language_info": {
   "codemirror_mode": {
    "name": "ipython",
    "version": 3
   },
   "file_extension": ".py",
   "mimetype": "text/x-python",
   "name": "python",
   "nbconvert_exporter": "python",
   "pygments_lexer": "ipython3",
   "version": "3.8.5"
  }
 },
 "nbformat": 4,
 "nbformat_minor": 2
}
